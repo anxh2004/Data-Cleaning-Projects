{
 "cells": [
  {
   "cell_type": "code",
   "execution_count": 21,
   "id": "48fb49f0",
   "metadata": {
    "scrolled": true
   },
   "outputs": [
    {
     "name": "stderr",
     "output_type": "stream",
     "text": [
      "C:\\Users\\ansh\\AppData\\Local\\Temp\\ipykernel_1584\\1766614540.py:2: DtypeWarning: Columns (76) have mixed types. Specify dtype option on import or set low_memory=False.\n",
      "  df=pd.read_csv(\"fifa21 raw data v2.csv\")\n"
     ]
    }
   ],
   "source": [
    "import pandas as pd\n",
    "df=pd.read_csv(\"fifa21 raw data v2.csv\")"
   ]
  },
  {
   "cell_type": "code",
   "execution_count": 22,
   "id": "cd996156",
   "metadata": {},
   "outputs": [
    {
     "data": {
      "text/html": [
       "<div>\n",
       "<style scoped>\n",
       "    .dataframe tbody tr th:only-of-type {\n",
       "        vertical-align: middle;\n",
       "    }\n",
       "\n",
       "    .dataframe tbody tr th {\n",
       "        vertical-align: top;\n",
       "    }\n",
       "\n",
       "    .dataframe thead th {\n",
       "        text-align: right;\n",
       "    }\n",
       "</style>\n",
       "<table border=\"1\" class=\"dataframe\">\n",
       "  <thead>\n",
       "    <tr style=\"text-align: right;\">\n",
       "      <th></th>\n",
       "      <th>ID</th>\n",
       "      <th>Name</th>\n",
       "      <th>LongName</th>\n",
       "      <th>photoUrl</th>\n",
       "      <th>playerUrl</th>\n",
       "      <th>Nationality</th>\n",
       "      <th>Age</th>\n",
       "      <th>↓OVA</th>\n",
       "      <th>POT</th>\n",
       "      <th>Club</th>\n",
       "      <th>...</th>\n",
       "      <th>A/W</th>\n",
       "      <th>D/W</th>\n",
       "      <th>IR</th>\n",
       "      <th>PAC</th>\n",
       "      <th>SHO</th>\n",
       "      <th>PAS</th>\n",
       "      <th>DRI</th>\n",
       "      <th>DEF</th>\n",
       "      <th>PHY</th>\n",
       "      <th>Hits</th>\n",
       "    </tr>\n",
       "  </thead>\n",
       "  <tbody>\n",
       "    <tr>\n",
       "      <th>0</th>\n",
       "      <td>158023</td>\n",
       "      <td>L. Messi</td>\n",
       "      <td>Lionel Messi</td>\n",
       "      <td>https://cdn.sofifa.com/players/158/023/21_60.png</td>\n",
       "      <td>http://sofifa.com/player/158023/lionel-messi/2...</td>\n",
       "      <td>Argentina</td>\n",
       "      <td>33</td>\n",
       "      <td>93</td>\n",
       "      <td>93</td>\n",
       "      <td>\\n\\n\\n\\nFC Barcelona</td>\n",
       "      <td>...</td>\n",
       "      <td>Medium</td>\n",
       "      <td>Low</td>\n",
       "      <td>5 ★</td>\n",
       "      <td>85</td>\n",
       "      <td>92</td>\n",
       "      <td>91</td>\n",
       "      <td>95</td>\n",
       "      <td>38</td>\n",
       "      <td>65</td>\n",
       "      <td>771</td>\n",
       "    </tr>\n",
       "    <tr>\n",
       "      <th>1</th>\n",
       "      <td>20801</td>\n",
       "      <td>Cristiano Ronaldo</td>\n",
       "      <td>C. Ronaldo dos Santos Aveiro</td>\n",
       "      <td>https://cdn.sofifa.com/players/020/801/21_60.png</td>\n",
       "      <td>http://sofifa.com/player/20801/c-ronaldo-dos-s...</td>\n",
       "      <td>Portugal</td>\n",
       "      <td>35</td>\n",
       "      <td>92</td>\n",
       "      <td>92</td>\n",
       "      <td>\\n\\n\\n\\nJuventus</td>\n",
       "      <td>...</td>\n",
       "      <td>High</td>\n",
       "      <td>Low</td>\n",
       "      <td>5 ★</td>\n",
       "      <td>89</td>\n",
       "      <td>93</td>\n",
       "      <td>81</td>\n",
       "      <td>89</td>\n",
       "      <td>35</td>\n",
       "      <td>77</td>\n",
       "      <td>562</td>\n",
       "    </tr>\n",
       "    <tr>\n",
       "      <th>2</th>\n",
       "      <td>200389</td>\n",
       "      <td>J. Oblak</td>\n",
       "      <td>Jan Oblak</td>\n",
       "      <td>https://cdn.sofifa.com/players/200/389/21_60.png</td>\n",
       "      <td>http://sofifa.com/player/200389/jan-oblak/210006/</td>\n",
       "      <td>Slovenia</td>\n",
       "      <td>27</td>\n",
       "      <td>91</td>\n",
       "      <td>93</td>\n",
       "      <td>\\n\\n\\n\\nAtlético Madrid</td>\n",
       "      <td>...</td>\n",
       "      <td>Medium</td>\n",
       "      <td>Medium</td>\n",
       "      <td>3 ★</td>\n",
       "      <td>87</td>\n",
       "      <td>92</td>\n",
       "      <td>78</td>\n",
       "      <td>90</td>\n",
       "      <td>52</td>\n",
       "      <td>90</td>\n",
       "      <td>150</td>\n",
       "    </tr>\n",
       "    <tr>\n",
       "      <th>3</th>\n",
       "      <td>192985</td>\n",
       "      <td>K. De Bruyne</td>\n",
       "      <td>Kevin De Bruyne</td>\n",
       "      <td>https://cdn.sofifa.com/players/192/985/21_60.png</td>\n",
       "      <td>http://sofifa.com/player/192985/kevin-de-bruyn...</td>\n",
       "      <td>Belgium</td>\n",
       "      <td>29</td>\n",
       "      <td>91</td>\n",
       "      <td>91</td>\n",
       "      <td>\\n\\n\\n\\nManchester City</td>\n",
       "      <td>...</td>\n",
       "      <td>High</td>\n",
       "      <td>High</td>\n",
       "      <td>4 ★</td>\n",
       "      <td>76</td>\n",
       "      <td>86</td>\n",
       "      <td>93</td>\n",
       "      <td>88</td>\n",
       "      <td>64</td>\n",
       "      <td>78</td>\n",
       "      <td>207</td>\n",
       "    </tr>\n",
       "    <tr>\n",
       "      <th>4</th>\n",
       "      <td>190871</td>\n",
       "      <td>Neymar Jr</td>\n",
       "      <td>Neymar da Silva Santos Jr.</td>\n",
       "      <td>https://cdn.sofifa.com/players/190/871/21_60.png</td>\n",
       "      <td>http://sofifa.com/player/190871/neymar-da-silv...</td>\n",
       "      <td>Brazil</td>\n",
       "      <td>28</td>\n",
       "      <td>91</td>\n",
       "      <td>91</td>\n",
       "      <td>\\n\\n\\n\\nParis Saint-Germain</td>\n",
       "      <td>...</td>\n",
       "      <td>High</td>\n",
       "      <td>Medium</td>\n",
       "      <td>5 ★</td>\n",
       "      <td>91</td>\n",
       "      <td>85</td>\n",
       "      <td>86</td>\n",
       "      <td>94</td>\n",
       "      <td>36</td>\n",
       "      <td>59</td>\n",
       "      <td>595</td>\n",
       "    </tr>\n",
       "    <tr>\n",
       "      <th>...</th>\n",
       "      <td>...</td>\n",
       "      <td>...</td>\n",
       "      <td>...</td>\n",
       "      <td>...</td>\n",
       "      <td>...</td>\n",
       "      <td>...</td>\n",
       "      <td>...</td>\n",
       "      <td>...</td>\n",
       "      <td>...</td>\n",
       "      <td>...</td>\n",
       "      <td>...</td>\n",
       "      <td>...</td>\n",
       "      <td>...</td>\n",
       "      <td>...</td>\n",
       "      <td>...</td>\n",
       "      <td>...</td>\n",
       "      <td>...</td>\n",
       "      <td>...</td>\n",
       "      <td>...</td>\n",
       "      <td>...</td>\n",
       "      <td>...</td>\n",
       "    </tr>\n",
       "    <tr>\n",
       "      <th>18974</th>\n",
       "      <td>247223</td>\n",
       "      <td>Xia Ao</td>\n",
       "      <td>Ao Xia</td>\n",
       "      <td>https://cdn.sofifa.com/players/247/223/21_60.png</td>\n",
       "      <td>http://sofifa.com/player/247223/ao-xia/210006/</td>\n",
       "      <td>China PR</td>\n",
       "      <td>21</td>\n",
       "      <td>47</td>\n",
       "      <td>55</td>\n",
       "      <td>\\n\\n\\n\\nWuhan Zall</td>\n",
       "      <td>...</td>\n",
       "      <td>Medium</td>\n",
       "      <td>Medium</td>\n",
       "      <td>1 ★</td>\n",
       "      <td>64</td>\n",
       "      <td>28</td>\n",
       "      <td>26</td>\n",
       "      <td>38</td>\n",
       "      <td>48</td>\n",
       "      <td>51</td>\n",
       "      <td>NaN</td>\n",
       "    </tr>\n",
       "    <tr>\n",
       "      <th>18975</th>\n",
       "      <td>258760</td>\n",
       "      <td>B. Hough</td>\n",
       "      <td>Ben Hough</td>\n",
       "      <td>https://cdn.sofifa.com/players/258/760/21_60.png</td>\n",
       "      <td>http://sofifa.com/player/258760/ben-hough/210006/</td>\n",
       "      <td>England</td>\n",
       "      <td>17</td>\n",
       "      <td>47</td>\n",
       "      <td>67</td>\n",
       "      <td>\\n\\n\\n\\nOldham Athletic</td>\n",
       "      <td>...</td>\n",
       "      <td>Medium</td>\n",
       "      <td>Medium</td>\n",
       "      <td>1 ★</td>\n",
       "      <td>64</td>\n",
       "      <td>40</td>\n",
       "      <td>48</td>\n",
       "      <td>49</td>\n",
       "      <td>35</td>\n",
       "      <td>45</td>\n",
       "      <td>NaN</td>\n",
       "    </tr>\n",
       "    <tr>\n",
       "      <th>18976</th>\n",
       "      <td>252757</td>\n",
       "      <td>R. McKinley</td>\n",
       "      <td>Ronan McKinley</td>\n",
       "      <td>https://cdn.sofifa.com/players/252/757/21_60.png</td>\n",
       "      <td>http://sofifa.com/player/252757/ronan-mckinley...</td>\n",
       "      <td>England</td>\n",
       "      <td>18</td>\n",
       "      <td>47</td>\n",
       "      <td>65</td>\n",
       "      <td>\\n\\n\\n\\nDerry City</td>\n",
       "      <td>...</td>\n",
       "      <td>Medium</td>\n",
       "      <td>Medium</td>\n",
       "      <td>1 ★</td>\n",
       "      <td>63</td>\n",
       "      <td>39</td>\n",
       "      <td>44</td>\n",
       "      <td>46</td>\n",
       "      <td>40</td>\n",
       "      <td>53</td>\n",
       "      <td>NaN</td>\n",
       "    </tr>\n",
       "    <tr>\n",
       "      <th>18977</th>\n",
       "      <td>243790</td>\n",
       "      <td>Wang Zhen'ao</td>\n",
       "      <td>Zhen'ao Wang</td>\n",
       "      <td>https://cdn.sofifa.com/players/243/790/21_60.png</td>\n",
       "      <td>http://sofifa.com/player/243790/zhenao-wang/21...</td>\n",
       "      <td>China PR</td>\n",
       "      <td>20</td>\n",
       "      <td>47</td>\n",
       "      <td>57</td>\n",
       "      <td>\\n\\n\\n\\nDalian YiFang FC</td>\n",
       "      <td>...</td>\n",
       "      <td>Medium</td>\n",
       "      <td>Medium</td>\n",
       "      <td>1 ★</td>\n",
       "      <td>58</td>\n",
       "      <td>49</td>\n",
       "      <td>41</td>\n",
       "      <td>49</td>\n",
       "      <td>30</td>\n",
       "      <td>44</td>\n",
       "      <td>NaN</td>\n",
       "    </tr>\n",
       "    <tr>\n",
       "      <th>18978</th>\n",
       "      <td>252520</td>\n",
       "      <td>Zhou Xiao</td>\n",
       "      <td>Xiao Zhou</td>\n",
       "      <td>https://cdn.sofifa.com/players/252/520/21_60.png</td>\n",
       "      <td>http://sofifa.com/player/252520/xiao-zhou/210006/</td>\n",
       "      <td>China PR</td>\n",
       "      <td>21</td>\n",
       "      <td>47</td>\n",
       "      <td>57</td>\n",
       "      <td>\\n\\n\\n\\nDalian YiFang FC</td>\n",
       "      <td>...</td>\n",
       "      <td>Medium</td>\n",
       "      <td>Medium</td>\n",
       "      <td>1 ★</td>\n",
       "      <td>62</td>\n",
       "      <td>22</td>\n",
       "      <td>39</td>\n",
       "      <td>42</td>\n",
       "      <td>45</td>\n",
       "      <td>55</td>\n",
       "      <td>NaN</td>\n",
       "    </tr>\n",
       "  </tbody>\n",
       "</table>\n",
       "<p>18979 rows × 77 columns</p>\n",
       "</div>"
      ],
      "text/plain": [
       "           ID               Name                      LongName  \\\n",
       "0      158023           L. Messi                  Lionel Messi   \n",
       "1       20801  Cristiano Ronaldo  C. Ronaldo dos Santos Aveiro   \n",
       "2      200389           J. Oblak                     Jan Oblak   \n",
       "3      192985       K. De Bruyne               Kevin De Bruyne   \n",
       "4      190871          Neymar Jr    Neymar da Silva Santos Jr.   \n",
       "...       ...                ...                           ...   \n",
       "18974  247223             Xia Ao                        Ao Xia   \n",
       "18975  258760           B. Hough                     Ben Hough   \n",
       "18976  252757        R. McKinley                Ronan McKinley   \n",
       "18977  243790       Wang Zhen'ao                  Zhen'ao Wang   \n",
       "18978  252520          Zhou Xiao                     Xiao Zhou   \n",
       "\n",
       "                                               photoUrl  \\\n",
       "0      https://cdn.sofifa.com/players/158/023/21_60.png   \n",
       "1      https://cdn.sofifa.com/players/020/801/21_60.png   \n",
       "2      https://cdn.sofifa.com/players/200/389/21_60.png   \n",
       "3      https://cdn.sofifa.com/players/192/985/21_60.png   \n",
       "4      https://cdn.sofifa.com/players/190/871/21_60.png   \n",
       "...                                                 ...   \n",
       "18974  https://cdn.sofifa.com/players/247/223/21_60.png   \n",
       "18975  https://cdn.sofifa.com/players/258/760/21_60.png   \n",
       "18976  https://cdn.sofifa.com/players/252/757/21_60.png   \n",
       "18977  https://cdn.sofifa.com/players/243/790/21_60.png   \n",
       "18978  https://cdn.sofifa.com/players/252/520/21_60.png   \n",
       "\n",
       "                                               playerUrl Nationality  Age  \\\n",
       "0      http://sofifa.com/player/158023/lionel-messi/2...   Argentina   33   \n",
       "1      http://sofifa.com/player/20801/c-ronaldo-dos-s...    Portugal   35   \n",
       "2      http://sofifa.com/player/200389/jan-oblak/210006/    Slovenia   27   \n",
       "3      http://sofifa.com/player/192985/kevin-de-bruyn...     Belgium   29   \n",
       "4      http://sofifa.com/player/190871/neymar-da-silv...      Brazil   28   \n",
       "...                                                  ...         ...  ...   \n",
       "18974     http://sofifa.com/player/247223/ao-xia/210006/    China PR   21   \n",
       "18975  http://sofifa.com/player/258760/ben-hough/210006/     England   17   \n",
       "18976  http://sofifa.com/player/252757/ronan-mckinley...     England   18   \n",
       "18977  http://sofifa.com/player/243790/zhenao-wang/21...    China PR   20   \n",
       "18978  http://sofifa.com/player/252520/xiao-zhou/210006/    China PR   21   \n",
       "\n",
       "       ↓OVA  POT                         Club  ...     A/W     D/W   IR PAC  \\\n",
       "0        93   93         \\n\\n\\n\\nFC Barcelona  ...  Medium     Low  5 ★  85   \n",
       "1        92   92             \\n\\n\\n\\nJuventus  ...    High     Low  5 ★  89   \n",
       "2        91   93      \\n\\n\\n\\nAtlético Madrid  ...  Medium  Medium  3 ★  87   \n",
       "3        91   91      \\n\\n\\n\\nManchester City  ...    High    High  4 ★  76   \n",
       "4        91   91  \\n\\n\\n\\nParis Saint-Germain  ...    High  Medium  5 ★  91   \n",
       "...     ...  ...                          ...  ...     ...     ...  ...  ..   \n",
       "18974    47   55           \\n\\n\\n\\nWuhan Zall  ...  Medium  Medium  1 ★  64   \n",
       "18975    47   67      \\n\\n\\n\\nOldham Athletic  ...  Medium  Medium  1 ★  64   \n",
       "18976    47   65           \\n\\n\\n\\nDerry City  ...  Medium  Medium  1 ★  63   \n",
       "18977    47   57     \\n\\n\\n\\nDalian YiFang FC  ...  Medium  Medium  1 ★  58   \n",
       "18978    47   57     \\n\\n\\n\\nDalian YiFang FC  ...  Medium  Medium  1 ★  62   \n",
       "\n",
       "      SHO  PAS DRI DEF PHY Hits  \n",
       "0      92   91  95  38  65  771  \n",
       "1      93   81  89  35  77  562  \n",
       "2      92   78  90  52  90  150  \n",
       "3      86   93  88  64  78  207  \n",
       "4      85   86  94  36  59  595  \n",
       "...    ..  ...  ..  ..  ..  ...  \n",
       "18974  28   26  38  48  51  NaN  \n",
       "18975  40   48  49  35  45  NaN  \n",
       "18976  39   44  46  40  53  NaN  \n",
       "18977  49   41  49  30  44  NaN  \n",
       "18978  22   39  42  45  55  NaN  \n",
       "\n",
       "[18979 rows x 77 columns]"
      ]
     },
     "execution_count": 22,
     "metadata": {},
     "output_type": "execute_result"
    }
   ],
   "source": [
    "df"
   ]
  },
  {
   "cell_type": "markdown",
   "id": "b22f945a",
   "metadata": {},
   "source": [
    "## Changing the dtypes of Height and Weight"
   ]
  },
  {
   "cell_type": "code",
   "execution_count": 23,
   "id": "97196b46",
   "metadata": {},
   "outputs": [
    {
     "data": {
      "text/html": [
       "<div>\n",
       "<style scoped>\n",
       "    .dataframe tbody tr th:only-of-type {\n",
       "        vertical-align: middle;\n",
       "    }\n",
       "\n",
       "    .dataframe tbody tr th {\n",
       "        vertical-align: top;\n",
       "    }\n",
       "\n",
       "    .dataframe thead th {\n",
       "        text-align: right;\n",
       "    }\n",
       "</style>\n",
       "<table border=\"1\" class=\"dataframe\">\n",
       "  <thead>\n",
       "    <tr style=\"text-align: right;\">\n",
       "      <th></th>\n",
       "      <th>Height</th>\n",
       "      <th>Weight</th>\n",
       "    </tr>\n",
       "  </thead>\n",
       "  <tbody>\n",
       "    <tr>\n",
       "      <th>0</th>\n",
       "      <td>170cm</td>\n",
       "      <td>72kg</td>\n",
       "    </tr>\n",
       "    <tr>\n",
       "      <th>1</th>\n",
       "      <td>187cm</td>\n",
       "      <td>83kg</td>\n",
       "    </tr>\n",
       "    <tr>\n",
       "      <th>2</th>\n",
       "      <td>188cm</td>\n",
       "      <td>87kg</td>\n",
       "    </tr>\n",
       "    <tr>\n",
       "      <th>3</th>\n",
       "      <td>181cm</td>\n",
       "      <td>70kg</td>\n",
       "    </tr>\n",
       "    <tr>\n",
       "      <th>4</th>\n",
       "      <td>175cm</td>\n",
       "      <td>68kg</td>\n",
       "    </tr>\n",
       "    <tr>\n",
       "      <th>...</th>\n",
       "      <td>...</td>\n",
       "      <td>...</td>\n",
       "    </tr>\n",
       "    <tr>\n",
       "      <th>18974</th>\n",
       "      <td>178cm</td>\n",
       "      <td>66kg</td>\n",
       "    </tr>\n",
       "    <tr>\n",
       "      <th>18975</th>\n",
       "      <td>175cm</td>\n",
       "      <td>65kg</td>\n",
       "    </tr>\n",
       "    <tr>\n",
       "      <th>18976</th>\n",
       "      <td>179cm</td>\n",
       "      <td>74kg</td>\n",
       "    </tr>\n",
       "    <tr>\n",
       "      <th>18977</th>\n",
       "      <td>175cm</td>\n",
       "      <td>69kg</td>\n",
       "    </tr>\n",
       "    <tr>\n",
       "      <th>18978</th>\n",
       "      <td>188cm</td>\n",
       "      <td>75kg</td>\n",
       "    </tr>\n",
       "  </tbody>\n",
       "</table>\n",
       "<p>18979 rows × 2 columns</p>\n",
       "</div>"
      ],
      "text/plain": [
       "      Height Weight\n",
       "0      170cm   72kg\n",
       "1      187cm   83kg\n",
       "2      188cm   87kg\n",
       "3      181cm   70kg\n",
       "4      175cm   68kg\n",
       "...      ...    ...\n",
       "18974  178cm   66kg\n",
       "18975  175cm   65kg\n",
       "18976  179cm   74kg\n",
       "18977  175cm   69kg\n",
       "18978  188cm   75kg\n",
       "\n",
       "[18979 rows x 2 columns]"
      ]
     },
     "execution_count": 23,
     "metadata": {},
     "output_type": "execute_result"
    }
   ],
   "source": [
    "df[['Height','Weight']]"
   ]
  },
  {
   "cell_type": "code",
   "execution_count": 24,
   "id": "5d332e42",
   "metadata": {},
   "outputs": [],
   "source": [
    "df['Height']=df['Height'].str.replace('cm','')"
   ]
  },
  {
   "cell_type": "code",
   "execution_count": 25,
   "id": "3ba62710",
   "metadata": {},
   "outputs": [],
   "source": [
    "df['Weight']=df['Weight'].str.replace('kg','')"
   ]
  },
  {
   "cell_type": "code",
   "execution_count": 26,
   "id": "94bd1482",
   "metadata": {},
   "outputs": [
    {
     "data": {
      "text/plain": [
       "Weight    object\n",
       "Height    object\n",
       "dtype: object"
      ]
     },
     "execution_count": 26,
     "metadata": {},
     "output_type": "execute_result"
    }
   ],
   "source": [
    "df[['Weight','Height']].dtypes"
   ]
  },
  {
   "cell_type": "code",
   "execution_count": 27,
   "id": "da2afc78",
   "metadata": {},
   "outputs": [],
   "source": [
    "df['Weight'].value_counts()\n",
    "df['Weight']=df['Weight'].str.replace('lbs','')"
   ]
  },
  {
   "cell_type": "code",
   "execution_count": 28,
   "id": "935d05ce",
   "metadata": {},
   "outputs": [
    {
     "data": {
      "text/plain": [
       "Weight\n",
       "70     1495\n",
       "75     1457\n",
       "80     1108\n",
       "72     1022\n",
       "78      991\n",
       "       ... \n",
       "190       1\n",
       "130       1\n",
       "146       1\n",
       "203       1\n",
       "157       1\n",
       "Name: count, Length: 79, dtype: int64"
      ]
     },
     "execution_count": 28,
     "metadata": {},
     "output_type": "execute_result"
    }
   ],
   "source": [
    "df.Weight.value_counts()"
   ]
  },
  {
   "cell_type": "code",
   "execution_count": 29,
   "id": "fd324761",
   "metadata": {},
   "outputs": [],
   "source": [
    "df.Weight=df.Weight.astype('int')"
   ]
  },
  {
   "cell_type": "code",
   "execution_count": 30,
   "id": "587ebb82",
   "metadata": {},
   "outputs": [
    {
     "data": {
      "text/plain": [
       "dtype('int32')"
      ]
     },
     "execution_count": 30,
     "metadata": {},
     "output_type": "execute_result"
    }
   ],
   "source": [
    "df.Weight.dtypes"
   ]
  },
  {
   "cell_type": "code",
   "execution_count": 31,
   "id": "67afb471",
   "metadata": {},
   "outputs": [
    {
     "data": {
      "text/plain": [
       "array(['170', '187', '188', '181', '175', '184', '191', '178', '193',\n",
       "       '185', '199', '173', '168', '176', '177', '183', '180', '189',\n",
       "       '179', '195', '172', '182', '186', '192', '165', '194', '167',\n",
       "       '196', '163', '190', '174', '169', '171', '197', '200', '166',\n",
       "       '6\\'2\"', '164', '198', '6\\'3\"', '6\\'5\"', '5\\'11\"', '6\\'4\"',\n",
       "       '6\\'1\"', '6\\'0\"', '5\\'10\"', '5\\'9\"', '5\\'6\"', '5\\'7\"', '5\\'4\"',\n",
       "       '201', '158', '162', '161', '160', '203', '157', '156', '202',\n",
       "       '159', '206', '155'], dtype=object)"
      ]
     },
     "execution_count": 31,
     "metadata": {},
     "output_type": "execute_result"
    }
   ],
   "source": [
    "df.Height.unique()"
   ]
  },
  {
   "cell_type": "code",
   "execution_count": 32,
   "id": "643df9c3",
   "metadata": {},
   "outputs": [],
   "source": [
    "height_mapping = {\n",
    "    \"6'2\\\"\": \"188\",\n",
    "    \"164\": \"164\",\n",
    "    \"198\": \"198\",\n",
    "    \"6'3\\\"\": \"191\",\n",
    "    \"6'5\\\"\": \"196\",\n",
    "    \"5'11\\\"\": \"180\",\n",
    "    \"6'4\\\"\": \"193\",\n",
    "    \"6'1\\\"\": \"185\",\n",
    "    \"6'0\\\"\": \"183\",\n",
    "    \"5'10\\\"\": \"178\",\n",
    "    \"5'9\\\"\": \"175\",\n",
    "    \"5'6\\\"\": \"168\",\n",
    "    \"5'7\\\"\": \"170\",\n",
    "    \"5'4\\\"\": \"163\"\n",
    "}\n",
    "\n",
    "# Replace values in the 'Height' column using the mapping dictionary\n",
    "df['Height'] = df['Height'].replace(height_mapping)"
   ]
  },
  {
   "cell_type": "code",
   "execution_count": 33,
   "id": "ca64d5f4",
   "metadata": {},
   "outputs": [
    {
     "data": {
      "text/plain": [
       "array(['170', '187', '188', '181', '175', '184', '191', '178', '193',\n",
       "       '185', '199', '173', '168', '176', '177', '183', '180', '189',\n",
       "       '179', '195', '172', '182', '186', '192', '165', '194', '167',\n",
       "       '196', '163', '190', '174', '169', '171', '197', '200', '166',\n",
       "       '164', '198', '201', '158', '162', '161', '160', '203', '157',\n",
       "       '156', '202', '159', '206', '155'], dtype=object)"
      ]
     },
     "execution_count": 33,
     "metadata": {},
     "output_type": "execute_result"
    }
   ],
   "source": [
    "df.Height.unique()"
   ]
  },
  {
   "cell_type": "code",
   "execution_count": 34,
   "id": "0b50520b",
   "metadata": {},
   "outputs": [],
   "source": [
    "df.Height=df.Height.astype('int')"
   ]
  },
  {
   "cell_type": "code",
   "execution_count": 35,
   "id": "f325417a",
   "metadata": {},
   "outputs": [
    {
     "data": {
      "text/plain": [
       "dtype('int32')"
      ]
     },
     "execution_count": 35,
     "metadata": {},
     "output_type": "execute_result"
    }
   ],
   "source": [
    "df.Height.dtypes"
   ]
  },
  {
   "cell_type": "code",
   "execution_count": 36,
   "id": "7cf38967",
   "metadata": {},
   "outputs": [
    {
     "data": {
      "text/plain": [
       "Index(['ID', 'Name', 'LongName', 'photoUrl', 'playerUrl', 'Nationality', 'Age',\n",
       "       '↓OVA', 'POT', 'Club', 'Contract', 'Positions', 'Height', 'Weight',\n",
       "       'Preferred Foot', 'BOV', 'Best Position', 'Joined', 'Loan Date End',\n",
       "       'Value', 'Wage', 'Release Clause', 'Attacking', 'Crossing', 'Finishing',\n",
       "       'Heading Accuracy', 'Short Passing', 'Volleys', 'Skill', 'Dribbling',\n",
       "       'Curve', 'FK Accuracy', 'Long Passing', 'Ball Control', 'Movement',\n",
       "       'Acceleration', 'Sprint Speed', 'Agility', 'Reactions', 'Balance',\n",
       "       'Power', 'Shot Power', 'Jumping', 'Stamina', 'Strength', 'Long Shots',\n",
       "       'Mentality', 'Aggression', 'Interceptions', 'Positioning', 'Vision',\n",
       "       'Penalties', 'Composure', 'Defending', 'Marking', 'Standing Tackle',\n",
       "       'Sliding Tackle', 'Goalkeeping', 'GK Diving', 'GK Handling',\n",
       "       'GK Kicking', 'GK Positioning', 'GK Reflexes', 'Total Stats',\n",
       "       'Base Stats', 'W/F', 'SM', 'A/W', 'D/W', 'IR', 'PAC', 'SHO', 'PAS',\n",
       "       'DRI', 'DEF', 'PHY', 'Hits'],\n",
       "      dtype='object')"
      ]
     },
     "execution_count": 36,
     "metadata": {},
     "output_type": "execute_result"
    }
   ],
   "source": [
    "df.columns"
   ]
  },
  {
   "cell_type": "code",
   "execution_count": 37,
   "id": "abd7b969",
   "metadata": {},
   "outputs": [
    {
     "data": {
      "text/plain": [
       "0         Jul 1, 2004\n",
       "1        Jul 10, 2018\n",
       "2        Jul 16, 2014\n",
       "3        Aug 30, 2015\n",
       "4         Aug 3, 2017\n",
       "             ...     \n",
       "18974    Jul 13, 2018\n",
       "18975     Aug 1, 2020\n",
       "18976     Mar 8, 2019\n",
       "18977    Sep 22, 2020\n",
       "18978    Jul 29, 2019\n",
       "Name: Joined, Length: 18979, dtype: object"
      ]
     },
     "execution_count": 37,
     "metadata": {},
     "output_type": "execute_result"
    }
   ],
   "source": [
    "df.Joined"
   ]
  },
  {
   "cell_type": "code",
   "execution_count": 38,
   "id": "028f736e",
   "metadata": {},
   "outputs": [
    {
     "data": {
      "text/plain": [
       "<bound method Series.unique of 0         Jul 1, 2004\n",
       "1        Jul 10, 2018\n",
       "2        Jul 16, 2014\n",
       "3        Aug 30, 2015\n",
       "4         Aug 3, 2017\n",
       "             ...     \n",
       "18974    Jul 13, 2018\n",
       "18975     Aug 1, 2020\n",
       "18976     Mar 8, 2019\n",
       "18977    Sep 22, 2020\n",
       "18978    Jul 29, 2019\n",
       "Name: Joined, Length: 18979, dtype: object>"
      ]
     },
     "execution_count": 38,
     "metadata": {},
     "output_type": "execute_result"
    }
   ],
   "source": [
    "df.Joined.unique"
   ]
  },
  {
   "cell_type": "code",
   "execution_count": 39,
   "id": "3a796783",
   "metadata": {},
   "outputs": [
    {
     "data": {
      "text/plain": [
       "dtype('O')"
      ]
     },
     "execution_count": 39,
     "metadata": {},
     "output_type": "execute_result"
    }
   ],
   "source": [
    "df.Joined.dtypes"
   ]
  },
  {
   "cell_type": "code",
   "execution_count": null,
   "id": "a47c9870",
   "metadata": {},
   "outputs": [],
   "source": []
  },
  {
   "cell_type": "code",
   "execution_count": 40,
   "id": "3a63c77d",
   "metadata": {},
   "outputs": [],
   "source": [
    "df['Joined'] = pd.to_datetime(df['Joined'], format='%b %d, %Y')"
   ]
  },
  {
   "cell_type": "code",
   "execution_count": 41,
   "id": "eb0d781d",
   "metadata": {},
   "outputs": [
    {
     "data": {
      "text/plain": [
       "0       2004-07-01\n",
       "1       2018-07-10\n",
       "2       2014-07-16\n",
       "3       2015-08-30\n",
       "4       2017-08-03\n",
       "           ...    \n",
       "18974   2018-07-13\n",
       "18975   2020-08-01\n",
       "18976   2019-03-08\n",
       "18977   2020-09-22\n",
       "18978   2019-07-29\n",
       "Name: Joined, Length: 18979, dtype: datetime64[ns]"
      ]
     },
     "execution_count": 41,
     "metadata": {},
     "output_type": "execute_result"
    }
   ],
   "source": [
    "df.Joined"
   ]
  },
  {
   "cell_type": "code",
   "execution_count": 42,
   "id": "838834b6",
   "metadata": {},
   "outputs": [],
   "source": [
    "df['Year of Joining']=df.Joined.dt.year"
   ]
  },
  {
   "cell_type": "code",
   "execution_count": 43,
   "id": "54735b32",
   "metadata": {},
   "outputs": [
    {
     "data": {
      "text/plain": [
       "0        2004\n",
       "1        2018\n",
       "2        2014\n",
       "3        2015\n",
       "4        2017\n",
       "         ... \n",
       "18974    2018\n",
       "18975    2020\n",
       "18976    2019\n",
       "18977    2020\n",
       "18978    2019\n",
       "Name: Year of Joining, Length: 18979, dtype: int32"
      ]
     },
     "execution_count": 43,
     "metadata": {},
     "output_type": "execute_result"
    }
   ],
   "source": [
    "df['Year of Joining']"
   ]
  },
  {
   "cell_type": "code",
   "execution_count": 44,
   "id": "af8072ac",
   "metadata": {},
   "outputs": [],
   "source": [
    "l=df.Joined.dt.month"
   ]
  },
  {
   "cell_type": "code",
   "execution_count": 45,
   "id": "74c87557",
   "metadata": {},
   "outputs": [
    {
     "data": {
      "text/plain": [
       "0        7\n",
       "1        7\n",
       "2        7\n",
       "3        8\n",
       "4        8\n",
       "        ..\n",
       "18974    7\n",
       "18975    8\n",
       "18976    3\n",
       "18977    9\n",
       "18978    7\n",
       "Name: Joined, Length: 18979, dtype: int32"
      ]
     },
     "execution_count": 45,
     "metadata": {},
     "output_type": "execute_result"
    }
   ],
   "source": [
    "l"
   ]
  },
  {
   "cell_type": "code",
   "execution_count": 46,
   "id": "af8537ab",
   "metadata": {},
   "outputs": [
    {
     "name": "stderr",
     "output_type": "stream",
     "text": [
      "C:\\Users\\ansh\\AppData\\Local\\Temp\\ipykernel_1584\\4116786712.py:1: SettingWithCopyWarning: modifications to a property of a datetimelike object are not supported and are discarded. Change values on the original.\n",
      "  l.replace({1:\"January\",2:\"February\",3:\"March\",4:\"April\",5:\"May\",6:\"June\",7:\"July\",8:\"August\",9:\"September\",10:\"October\",11:\"November\",12:\"December\"},inplace=True)\n"
     ]
    }
   ],
   "source": [
    "l.replace({1:\"January\",2:\"February\",3:\"March\",4:\"April\",5:\"May\",6:\"June\",7:\"July\",8:\"August\",9:\"September\",10:\"October\",11:\"November\",12:\"December\"},inplace=True)"
   ]
  },
  {
   "cell_type": "code",
   "execution_count": 47,
   "id": "f8ddca8a",
   "metadata": {},
   "outputs": [
    {
     "data": {
      "text/plain": [
       "0             July\n",
       "1             July\n",
       "2             July\n",
       "3           August\n",
       "4           August\n",
       "           ...    \n",
       "18974         July\n",
       "18975       August\n",
       "18976        March\n",
       "18977    September\n",
       "18978         July\n",
       "Name: Joined, Length: 18979, dtype: object"
      ]
     },
     "execution_count": 47,
     "metadata": {},
     "output_type": "execute_result"
    }
   ],
   "source": [
    "l"
   ]
  },
  {
   "cell_type": "code",
   "execution_count": 48,
   "id": "d6513f67",
   "metadata": {},
   "outputs": [],
   "source": [
    "df['Month of Joining']=l"
   ]
  },
  {
   "cell_type": "code",
   "execution_count": 49,
   "id": "8526bb2a",
   "metadata": {},
   "outputs": [
    {
     "data": {
      "text/plain": [
       "0             July\n",
       "1             July\n",
       "2             July\n",
       "3           August\n",
       "4           August\n",
       "           ...    \n",
       "18974         July\n",
       "18975       August\n",
       "18976        March\n",
       "18977    September\n",
       "18978         July\n",
       "Name: Month of Joining, Length: 18979, dtype: object"
      ]
     },
     "execution_count": 49,
     "metadata": {},
     "output_type": "execute_result"
    }
   ],
   "source": [
    "df['Month of Joining']"
   ]
  },
  {
   "cell_type": "code",
   "execution_count": 50,
   "id": "4ad24034",
   "metadata": {},
   "outputs": [],
   "source": [
    "l=df.Joined.dt.day"
   ]
  },
  {
   "cell_type": "code",
   "execution_count": 51,
   "id": "e8a24e4e",
   "metadata": {},
   "outputs": [
    {
     "data": {
      "text/plain": [
       "0         1\n",
       "1        10\n",
       "2        16\n",
       "3        30\n",
       "4         3\n",
       "         ..\n",
       "18974    13\n",
       "18975     1\n",
       "18976     8\n",
       "18977    22\n",
       "18978    29\n",
       "Name: Joined, Length: 18979, dtype: int32"
      ]
     },
     "execution_count": 51,
     "metadata": {},
     "output_type": "execute_result"
    }
   ],
   "source": [
    "l"
   ]
  },
  {
   "cell_type": "code",
   "execution_count": 52,
   "id": "9b525ed3",
   "metadata": {},
   "outputs": [
    {
     "name": "stderr",
     "output_type": "stream",
     "text": [
      "C:\\Users\\ansh\\AppData\\Local\\Temp\\ipykernel_1584\\3894780226.py:1: SettingWithCopyWarning: modifications to a property of a datetimelike object are not supported and are discarded. Change values on the original.\n",
      "  l.replace({1:\"Monday\",2:\"Tuesday\",3:\"Wednesday\",4:'Thursday',5:'Friday',6:'Saturday',7:'Sunday'},inplace=True)\n"
     ]
    }
   ],
   "source": [
    "l.replace({1:\"Monday\",2:\"Tuesday\",3:\"Wednesday\",4:'Thursday',5:'Friday',6:'Saturday',7:'Sunday'},inplace=True)"
   ]
  },
  {
   "cell_type": "code",
   "execution_count": 53,
   "id": "21bd63a1",
   "metadata": {},
   "outputs": [],
   "source": [
    "df['Day of Joining']=df.Joined.dt.day_name()"
   ]
  },
  {
   "cell_type": "code",
   "execution_count": 54,
   "id": "d16f49d2",
   "metadata": {},
   "outputs": [
    {
     "data": {
      "text/plain": [
       "0         Thursday\n",
       "1          Tuesday\n",
       "2        Wednesday\n",
       "3           Sunday\n",
       "4         Thursday\n",
       "           ...    \n",
       "18974       Friday\n",
       "18975     Saturday\n",
       "18976       Friday\n",
       "18977      Tuesday\n",
       "18978       Monday\n",
       "Name: Day of Joining, Length: 18979, dtype: object"
      ]
     },
     "execution_count": 54,
     "metadata": {},
     "output_type": "execute_result"
    }
   ],
   "source": [
    "df['Day of Joining']"
   ]
  },
  {
   "cell_type": "code",
   "execution_count": 55,
   "id": "ee7d7a29",
   "metadata": {},
   "outputs": [
    {
     "data": {
      "text/plain": [
       "Index(['ID', 'Name', 'LongName', 'photoUrl', 'playerUrl', 'Nationality', 'Age',\n",
       "       '↓OVA', 'POT', 'Club', 'Contract', 'Positions', 'Height', 'Weight',\n",
       "       'Preferred Foot', 'BOV', 'Best Position', 'Joined', 'Loan Date End',\n",
       "       'Value', 'Wage', 'Release Clause', 'Attacking', 'Crossing', 'Finishing',\n",
       "       'Heading Accuracy', 'Short Passing', 'Volleys', 'Skill', 'Dribbling',\n",
       "       'Curve', 'FK Accuracy', 'Long Passing', 'Ball Control', 'Movement',\n",
       "       'Acceleration', 'Sprint Speed', 'Agility', 'Reactions', 'Balance',\n",
       "       'Power', 'Shot Power', 'Jumping', 'Stamina', 'Strength', 'Long Shots',\n",
       "       'Mentality', 'Aggression', 'Interceptions', 'Positioning', 'Vision',\n",
       "       'Penalties', 'Composure', 'Defending', 'Marking', 'Standing Tackle',\n",
       "       'Sliding Tackle', 'Goalkeeping', 'GK Diving', 'GK Handling',\n",
       "       'GK Kicking', 'GK Positioning', 'GK Reflexes', 'Total Stats',\n",
       "       'Base Stats', 'W/F', 'SM', 'A/W', 'D/W', 'IR', 'PAC', 'SHO', 'PAS',\n",
       "       'DRI', 'DEF', 'PHY', 'Hits', 'Year of Joining', 'Month of Joining',\n",
       "       'Day of Joining'],\n",
       "      dtype='object')"
      ]
     },
     "execution_count": 55,
     "metadata": {},
     "output_type": "execute_result"
    }
   ],
   "source": [
    "df.columns"
   ]
  },
  {
   "cell_type": "code",
   "execution_count": 56,
   "id": "1ab74920",
   "metadata": {},
   "outputs": [
    {
     "data": {
      "text/html": [
       "<div>\n",
       "<style scoped>\n",
       "    .dataframe tbody tr th:only-of-type {\n",
       "        vertical-align: middle;\n",
       "    }\n",
       "\n",
       "    .dataframe tbody tr th {\n",
       "        vertical-align: top;\n",
       "    }\n",
       "\n",
       "    .dataframe thead th {\n",
       "        text-align: right;\n",
       "    }\n",
       "</style>\n",
       "<table border=\"1\" class=\"dataframe\">\n",
       "  <thead>\n",
       "    <tr style=\"text-align: right;\">\n",
       "      <th></th>\n",
       "      <th>Value</th>\n",
       "      <th>Wage</th>\n",
       "      <th>Release Clause</th>\n",
       "    </tr>\n",
       "  </thead>\n",
       "  <tbody>\n",
       "    <tr>\n",
       "      <th>0</th>\n",
       "      <td>€103.5M</td>\n",
       "      <td>€560K</td>\n",
       "      <td>€138.4M</td>\n",
       "    </tr>\n",
       "    <tr>\n",
       "      <th>1</th>\n",
       "      <td>€63M</td>\n",
       "      <td>€220K</td>\n",
       "      <td>€75.9M</td>\n",
       "    </tr>\n",
       "    <tr>\n",
       "      <th>2</th>\n",
       "      <td>€120M</td>\n",
       "      <td>€125K</td>\n",
       "      <td>€159.4M</td>\n",
       "    </tr>\n",
       "    <tr>\n",
       "      <th>3</th>\n",
       "      <td>€129M</td>\n",
       "      <td>€370K</td>\n",
       "      <td>€161M</td>\n",
       "    </tr>\n",
       "    <tr>\n",
       "      <th>4</th>\n",
       "      <td>€132M</td>\n",
       "      <td>€270K</td>\n",
       "      <td>€166.5M</td>\n",
       "    </tr>\n",
       "    <tr>\n",
       "      <th>...</th>\n",
       "      <td>...</td>\n",
       "      <td>...</td>\n",
       "      <td>...</td>\n",
       "    </tr>\n",
       "    <tr>\n",
       "      <th>18974</th>\n",
       "      <td>€100K</td>\n",
       "      <td>€1K</td>\n",
       "      <td>€70K</td>\n",
       "    </tr>\n",
       "    <tr>\n",
       "      <th>18975</th>\n",
       "      <td>€130K</td>\n",
       "      <td>€500</td>\n",
       "      <td>€165K</td>\n",
       "    </tr>\n",
       "    <tr>\n",
       "      <th>18976</th>\n",
       "      <td>€120K</td>\n",
       "      <td>€500</td>\n",
       "      <td>€131K</td>\n",
       "    </tr>\n",
       "    <tr>\n",
       "      <th>18977</th>\n",
       "      <td>€100K</td>\n",
       "      <td>€2K</td>\n",
       "      <td>€88K</td>\n",
       "    </tr>\n",
       "    <tr>\n",
       "      <th>18978</th>\n",
       "      <td>€100K</td>\n",
       "      <td>€1K</td>\n",
       "      <td>€79K</td>\n",
       "    </tr>\n",
       "  </tbody>\n",
       "</table>\n",
       "<p>18979 rows × 3 columns</p>\n",
       "</div>"
      ],
      "text/plain": [
       "         Value   Wage Release Clause\n",
       "0      €103.5M  €560K        €138.4M\n",
       "1         €63M  €220K         €75.9M\n",
       "2        €120M  €125K        €159.4M\n",
       "3        €129M  €370K          €161M\n",
       "4        €132M  €270K        €166.5M\n",
       "...        ...    ...            ...\n",
       "18974    €100K    €1K           €70K\n",
       "18975    €130K   €500          €165K\n",
       "18976    €120K   €500          €131K\n",
       "18977    €100K    €2K           €88K\n",
       "18978    €100K    €1K           €79K\n",
       "\n",
       "[18979 rows x 3 columns]"
      ]
     },
     "execution_count": 56,
     "metadata": {},
     "output_type": "execute_result"
    }
   ],
   "source": [
    "df[['Value','Wage','Release Clause']]"
   ]
  },
  {
   "cell_type": "code",
   "execution_count": 57,
   "id": "3a70d8b3",
   "metadata": {},
   "outputs": [],
   "source": [
    "df.Value=df.Value.replace({'€':'','M':''},inplace=True)"
   ]
  },
  {
   "cell_type": "code",
   "execution_count": 58,
   "id": "37d14b04",
   "metadata": {},
   "outputs": [
    {
     "data": {
      "text/plain": [
       "0        None\n",
       "1        None\n",
       "2        None\n",
       "3        None\n",
       "4        None\n",
       "         ... \n",
       "18974    None\n",
       "18975    None\n",
       "18976    None\n",
       "18977    None\n",
       "18978    None\n",
       "Name: Value, Length: 18979, dtype: object"
      ]
     },
     "execution_count": 58,
     "metadata": {},
     "output_type": "execute_result"
    }
   ],
   "source": [
    "df.Value"
   ]
  },
  {
   "cell_type": "code",
   "execution_count": 59,
   "id": "a63e0f86",
   "metadata": {},
   "outputs": [
    {
     "data": {
      "text/plain": [
       "0        None\n",
       "1        None\n",
       "2        None\n",
       "3        None\n",
       "4        None\n",
       "         ... \n",
       "18974    None\n",
       "18975    None\n",
       "18976    None\n",
       "18977    None\n",
       "18978    None\n",
       "Name: Value, Length: 18979, dtype: object"
      ]
     },
     "execution_count": 59,
     "metadata": {},
     "output_type": "execute_result"
    }
   ],
   "source": [
    "df['Value'] = df['Value'].str.replace('€', '').str.replace('M', '')\n",
    "\n",
    "df.Value"
   ]
  },
  {
   "cell_type": "code",
   "execution_count": 60,
   "id": "136bc76b",
   "metadata": {},
   "outputs": [
    {
     "name": "stderr",
     "output_type": "stream",
     "text": [
      "C:\\Users\\ansh\\AppData\\Local\\Temp\\ipykernel_1584\\394846802.py:1: DtypeWarning: Columns (76) have mixed types. Specify dtype option on import or set low_memory=False.\n",
      "  df2=pd.read_csv(\"fifa21 raw data v2.csv\")\n"
     ]
    }
   ],
   "source": [
    "df2=pd.read_csv(\"fifa21 raw data v2.csv\")"
   ]
  },
  {
   "cell_type": "code",
   "execution_count": 61,
   "id": "2bd8c076",
   "metadata": {},
   "outputs": [],
   "source": [
    "df.Value=df2.Value"
   ]
  },
  {
   "cell_type": "code",
   "execution_count": 62,
   "id": "6d6322cf",
   "metadata": {},
   "outputs": [
    {
     "data": {
      "text/plain": [
       "0        €103.5M\n",
       "1           €63M\n",
       "2          €120M\n",
       "3          €129M\n",
       "4          €132M\n",
       "          ...   \n",
       "18974      €100K\n",
       "18975      €130K\n",
       "18976      €120K\n",
       "18977      €100K\n",
       "18978      €100K\n",
       "Name: Value, Length: 18979, dtype: object"
      ]
     },
     "execution_count": 62,
     "metadata": {},
     "output_type": "execute_result"
    }
   ],
   "source": [
    "df.Value"
   ]
  },
  {
   "cell_type": "code",
   "execution_count": 63,
   "id": "2d4f3164",
   "metadata": {},
   "outputs": [],
   "source": [
    "df.Value=df.Value.str.replace('M','').str.replace('€','')"
   ]
  },
  {
   "cell_type": "code",
   "execution_count": 64,
   "id": "a88ac529",
   "metadata": {},
   "outputs": [
    {
     "data": {
      "text/plain": [
       "0        103.5\n",
       "1           63\n",
       "2          120\n",
       "3          129\n",
       "4          132\n",
       "         ...  \n",
       "18974     100K\n",
       "18975     130K\n",
       "18976     120K\n",
       "18977     100K\n",
       "18978     100K\n",
       "Name: Value, Length: 18979, dtype: object"
      ]
     },
     "execution_count": 64,
     "metadata": {},
     "output_type": "execute_result"
    }
   ],
   "source": [
    "df.Value"
   ]
  },
  {
   "cell_type": "code",
   "execution_count": 65,
   "id": "619d9e71",
   "metadata": {},
   "outputs": [
    {
     "data": {
      "text/plain": [
       "<bound method Series.unique of 0        103.5\n",
       "1           63\n",
       "2          120\n",
       "3          129\n",
       "4          132\n",
       "         ...  \n",
       "18974     100K\n",
       "18975     130K\n",
       "18976     120K\n",
       "18977     100K\n",
       "18978     100K\n",
       "Name: Value, Length: 18979, dtype: object>"
      ]
     },
     "execution_count": 65,
     "metadata": {},
     "output_type": "execute_result"
    }
   ],
   "source": [
    "df.Value.unique"
   ]
  },
  {
   "cell_type": "code",
   "execution_count": 66,
   "id": "e9211c5f",
   "metadata": {},
   "outputs": [],
   "source": [
    "df.Value=df.Value.str.replace('K','')"
   ]
  },
  {
   "cell_type": "code",
   "execution_count": 67,
   "id": "1a5661e4",
   "metadata": {},
   "outputs": [
    {
     "data": {
      "text/plain": [
       "0        103.5\n",
       "1           63\n",
       "2          120\n",
       "3          129\n",
       "4          132\n",
       "         ...  \n",
       "18974      100\n",
       "18975      130\n",
       "18976      120\n",
       "18977      100\n",
       "18978      100\n",
       "Name: Value, Length: 18979, dtype: object"
      ]
     },
     "execution_count": 67,
     "metadata": {},
     "output_type": "execute_result"
    }
   ],
   "source": [
    "df.Value"
   ]
  },
  {
   "cell_type": "code",
   "execution_count": 68,
   "id": "59dc479c",
   "metadata": {},
   "outputs": [],
   "source": [
    "df.Value=df.Value.astype('float')"
   ]
  },
  {
   "cell_type": "code",
   "execution_count": 69,
   "id": "868c1536",
   "metadata": {},
   "outputs": [
    {
     "data": {
      "text/plain": [
       "0        103.5\n",
       "1         63.0\n",
       "2        120.0\n",
       "3        129.0\n",
       "4        132.0\n",
       "         ...  \n",
       "18974    100.0\n",
       "18975    130.0\n",
       "18976    120.0\n",
       "18977    100.0\n",
       "18978    100.0\n",
       "Name: Value, Length: 18979, dtype: float64"
      ]
     },
     "execution_count": 69,
     "metadata": {},
     "output_type": "execute_result"
    }
   ],
   "source": [
    "df.Value"
   ]
  },
  {
   "cell_type": "code",
   "execution_count": 70,
   "id": "27bc04fd",
   "metadata": {},
   "outputs": [
    {
     "data": {
      "text/plain": [
       "Wage\n",
       "€2K      2899\n",
       "€500     2042\n",
       "€1K      1891\n",
       "€3K      1823\n",
       "€4K      1050\n",
       "         ... \n",
       "€270K       2\n",
       "€370K       1\n",
       "€290K       1\n",
       "€88K        1\n",
       "€560K       1\n",
       "Name: count, Length: 134, dtype: int64"
      ]
     },
     "execution_count": 70,
     "metadata": {},
     "output_type": "execute_result"
    }
   ],
   "source": [
    "df.Wage.value_counts()"
   ]
  },
  {
   "cell_type": "code",
   "execution_count": 71,
   "id": "f7bc705e",
   "metadata": {},
   "outputs": [
    {
     "data": {
      "text/plain": [
       "array(['€560K', '€220K', '€125K', '€370K', '€270K', '€240K', '€250K',\n",
       "       '€160K', '€260K', '€210K', '€310K', '€130K', '€350K', '€300K',\n",
       "       '€190K', '€145K', '€195K', '€100K', '€140K', '€290K', '€82K',\n",
       "       '€110K', '€230K', '€155K', '€200K', '€165K', '€95K', '€170K',\n",
       "       '€105K', '€115K', '€150K', '€135K', '€55K', '€58K', '€81K', '€34K',\n",
       "       '€120K', '€59K', '€90K', '€65K', '€56K', '€71K', '€18K', '€75K',\n",
       "       '€47K', '€20K', '€84K', '€86K', '€74K', '€78K', '€27K', '€68K',\n",
       "       '€85K', '€25K', '€46K', '€83K', '€54K', '€79K', '€175K', '€43K',\n",
       "       '€49K', '€45K', '€38K', '€41K', '€39K', '€23K', '€51K', '€50K',\n",
       "       '€87K', '€30K', '€14K', '€69K', '€31K', '€64K', '€53K', '€35K',\n",
       "       '€21K', '€28K', '€17K', '€33K', '€70K', '€32K', '€89K', '€26K',\n",
       "       '€40K', '€76K', '€72K', '€48K', '€36K', '€29K', '€60K', '€16K',\n",
       "       '€37K', '€24K', '€52K', '€0', '€62K', '€73K', '€63K', '€19K',\n",
       "       '€1K', '€66K', '€80K', '€12K', '€2K', '€42K', '€13K', '€900',\n",
       "       '€57K', '€77K', '€61K', '€22K', '€67K', '€44K', '€15K', '€11K',\n",
       "       '€8K', '€850', '€10K', '€88K', '€500', '€7K', '€6K', '€9K', '€5K',\n",
       "       '€700', '€950', '€750', '€3K', '€650', '€600', '€4K', '€800',\n",
       "       '€550'], dtype=object)"
      ]
     },
     "execution_count": 71,
     "metadata": {},
     "output_type": "execute_result"
    }
   ],
   "source": [
    "df.Wage.unique()"
   ]
  },
  {
   "cell_type": "code",
   "execution_count": 72,
   "id": "523f1c38",
   "metadata": {},
   "outputs": [],
   "source": [
    "df.Wage=df.Wage.str.replace('€','').str.replace('K','')"
   ]
  },
  {
   "cell_type": "code",
   "execution_count": 73,
   "id": "182152a5",
   "metadata": {},
   "outputs": [
    {
     "data": {
      "text/plain": [
       "dtype('O')"
      ]
     },
     "execution_count": 73,
     "metadata": {},
     "output_type": "execute_result"
    }
   ],
   "source": [
    "df.Wage.dtypes"
   ]
  },
  {
   "cell_type": "code",
   "execution_count": 74,
   "id": "4b4058ca",
   "metadata": {},
   "outputs": [
    {
     "data": {
      "text/plain": [
       "0        560\n",
       "1        220\n",
       "2        125\n",
       "3        370\n",
       "4        270\n",
       "        ... \n",
       "18974      1\n",
       "18975    500\n",
       "18976    500\n",
       "18977      2\n",
       "18978      1\n",
       "Name: Wage, Length: 18979, dtype: object"
      ]
     },
     "execution_count": 74,
     "metadata": {},
     "output_type": "execute_result"
    }
   ],
   "source": [
    "df.Wage"
   ]
  },
  {
   "cell_type": "code",
   "execution_count": 75,
   "id": "22e50b8d",
   "metadata": {},
   "outputs": [],
   "source": [
    "df.Value=df2.Value"
   ]
  },
  {
   "cell_type": "code",
   "execution_count": 76,
   "id": "47a0ae85",
   "metadata": {},
   "outputs": [
    {
     "data": {
      "text/plain": [
       "0        €103.5M\n",
       "1           €63M\n",
       "2          €120M\n",
       "3          €129M\n",
       "4          €132M\n",
       "          ...   \n",
       "18974      €100K\n",
       "18975      €130K\n",
       "18976      €120K\n",
       "18977      €100K\n",
       "18978      €100K\n",
       "Name: Value, Length: 18979, dtype: object"
      ]
     },
     "execution_count": 76,
     "metadata": {},
     "output_type": "execute_result"
    }
   ],
   "source": [
    "df.Value"
   ]
  },
  {
   "cell_type": "code",
   "execution_count": 77,
   "id": "34c2cab5",
   "metadata": {},
   "outputs": [
    {
     "data": {
      "text/plain": [
       "array(['€103.5M', '€63M', '€120M', '€129M', '€132M', '€111M', '€120.5M',\n",
       "       '€102M', '€185.5M', '€110M', '€113M', '€90.5M', '€82M', '€17.5M',\n",
       "       '€83.5M', '€33.5M', '€114.5M', '€78M', '€103M', '€109M', '€92M',\n",
       "       '€10M', '€76.5M', '€89.5M', '€87.5M', '€79.5M', '€124M', '€114M',\n",
       "       '€95M', '€92.5M', '€105.5M', '€88.5M', '€85M', '€81.5M', '€26M',\n",
       "       '€21M', '€56M', '€67.5M', '€53M', '€36.5M', '€51M', '€65.5M',\n",
       "       '€46.5M', '€61.5M', '€72.5M', '€77.5M', '€43.5M', '€32.5M', '€36M',\n",
       "       '€32M', '€54M', '€49.5M', '€57M', '€66.5M', '€74.5M', '€71.5M',\n",
       "       '€121M', '€99M', '€67M', '€86.5M', '€93.5M', '€70M', '€62M',\n",
       "       '€66M', '€58M', '€44M', '€81M', '€37M', '€14.5M', '€46M', '€47.5M',\n",
       "       '€52.5M', '€54.5M', '€34.5M', '€57.5M', '€51.5M', '€44.5M', '€55M',\n",
       "       '€48M', '€60.5M', '€63.5M', '€61M', '€29M', '€58.5M', '€55.5M',\n",
       "       '€42M', '€40.5M', '€43M', '€45.5M', '€34M', '€26.5M', '€42.5M',\n",
       "       '€35.5M', '€45M', '€41.5M', '€40M', '€11M', '€13.5M', '€29.5M',\n",
       "       '€27M', '€15.5M', '€38.5M', '€52M', '€33M', '€19M', '€73.5M',\n",
       "       '€38M', '€35M', '€47M', '€24M', '€30.5M', '€18M', '€28M', '€25.5M',\n",
       "       '€25M', '€31M', '€23.5M', '€30M', '€31.5M', '€22.5M', '€28.5M',\n",
       "       '€4M', '€12.5M', '€37.5M', '€27.5M', '€16M', '€15M', '€20.5M',\n",
       "       '€22M', '€3.4M', '€5M', '€56.5M', '€62.5M', '€0', '€39M', '€24.5M',\n",
       "       '€21.5M', '€13M', '€8M', '€20M', '€8.5M', '€2.9M', '€9M', '€4.6M',\n",
       "       '€50M', '€23M', '€18.5M', '€7M', '€19.5M', '€5.5M', '€7.5M',\n",
       "       '€3.8M', '€14M', '€10.5M', '€16.5M', '€3.6M', '€9.5M', '€39.5M',\n",
       "       '€17M', '€12M', '€11.5M', '€4.9M', '€3M', '€1.9M', '€6.5M',\n",
       "       '€1.7M', '€2.4M', '€3.1M', '€6M', '€3.7M', '€4.7M', '€4.3M',\n",
       "       '€2.1M', '€1.2M', '€1.8M', '€4.8M', '€3.2M', '€1.3M', '€825K',\n",
       "       '€2.3M', '€1.5M', '€3.9M', '€2.6M', '€3.5M', '€2.8M', '€2.7M',\n",
       "       '€4.4M', '€4.1M', '€950K', '€1.6M', '€625K', '€1.1M', '€4.5M',\n",
       "       '€4.2M', '€2.2M', '€3.3M', '€1.4M', '€2M', '€475K', '€925K',\n",
       "       '€750K', '€725K', '€2.5M', '€1M', '€350K', '€525K', '€600K',\n",
       "       '€850K', '€800K', '€550K', '€250K', '€400K', '€425K', '€575K',\n",
       "       '€210K', '€325K', '€900K', '€875K', '€650K', '€700K', '€500K',\n",
       "       '€975K', '€375K', '€775K', '€275K', '€180K', '€450K', '€675K',\n",
       "       '€150K', '€240K', '€300K', '€130K', '€220K', '€200K', '€110K',\n",
       "       '€170K', '€230K', '€90K', '€120K', '€80K', '€190K', '€140K',\n",
       "       '€160K', '€100K', '€60K', '€50K', '€70K', '€45K', '€35K', '€40K',\n",
       "       '€25K', '€20K', '€15K', '€30K', '€9K'], dtype=object)"
      ]
     },
     "execution_count": 77,
     "metadata": {},
     "output_type": "execute_result"
    }
   ],
   "source": [
    "df.Value.unique()"
   ]
  },
  {
   "cell_type": "code",
   "execution_count": 78,
   "id": "ed0abc9a",
   "metadata": {},
   "outputs": [],
   "source": [
    "df.Value=df.Value.str.replace('€','')"
   ]
  },
  {
   "cell_type": "code",
   "execution_count": 79,
   "id": "393ede21",
   "metadata": {},
   "outputs": [],
   "source": [
    "df.Value=df2.Value"
   ]
  },
  {
   "cell_type": "code",
   "execution_count": 80,
   "id": "e8df077f",
   "metadata": {},
   "outputs": [
    {
     "data": {
      "text/plain": [
       "array(['€103.5M', '€63M', '€120M', '€129M', '€132M', '€111M', '€120.5M',\n",
       "       '€102M', '€185.5M', '€110M', '€113M', '€90.5M', '€82M', '€17.5M',\n",
       "       '€83.5M', '€33.5M', '€114.5M', '€78M', '€103M', '€109M', '€92M',\n",
       "       '€10M', '€76.5M', '€89.5M', '€87.5M', '€79.5M', '€124M', '€114M',\n",
       "       '€95M', '€92.5M', '€105.5M', '€88.5M', '€85M', '€81.5M', '€26M',\n",
       "       '€21M', '€56M', '€67.5M', '€53M', '€36.5M', '€51M', '€65.5M',\n",
       "       '€46.5M', '€61.5M', '€72.5M', '€77.5M', '€43.5M', '€32.5M', '€36M',\n",
       "       '€32M', '€54M', '€49.5M', '€57M', '€66.5M', '€74.5M', '€71.5M',\n",
       "       '€121M', '€99M', '€67M', '€86.5M', '€93.5M', '€70M', '€62M',\n",
       "       '€66M', '€58M', '€44M', '€81M', '€37M', '€14.5M', '€46M', '€47.5M',\n",
       "       '€52.5M', '€54.5M', '€34.5M', '€57.5M', '€51.5M', '€44.5M', '€55M',\n",
       "       '€48M', '€60.5M', '€63.5M', '€61M', '€29M', '€58.5M', '€55.5M',\n",
       "       '€42M', '€40.5M', '€43M', '€45.5M', '€34M', '€26.5M', '€42.5M',\n",
       "       '€35.5M', '€45M', '€41.5M', '€40M', '€11M', '€13.5M', '€29.5M',\n",
       "       '€27M', '€15.5M', '€38.5M', '€52M', '€33M', '€19M', '€73.5M',\n",
       "       '€38M', '€35M', '€47M', '€24M', '€30.5M', '€18M', '€28M', '€25.5M',\n",
       "       '€25M', '€31M', '€23.5M', '€30M', '€31.5M', '€22.5M', '€28.5M',\n",
       "       '€4M', '€12.5M', '€37.5M', '€27.5M', '€16M', '€15M', '€20.5M',\n",
       "       '€22M', '€3.4M', '€5M', '€56.5M', '€62.5M', '€0', '€39M', '€24.5M',\n",
       "       '€21.5M', '€13M', '€8M', '€20M', '€8.5M', '€2.9M', '€9M', '€4.6M',\n",
       "       '€50M', '€23M', '€18.5M', '€7M', '€19.5M', '€5.5M', '€7.5M',\n",
       "       '€3.8M', '€14M', '€10.5M', '€16.5M', '€3.6M', '€9.5M', '€39.5M',\n",
       "       '€17M', '€12M', '€11.5M', '€4.9M', '€3M', '€1.9M', '€6.5M',\n",
       "       '€1.7M', '€2.4M', '€3.1M', '€6M', '€3.7M', '€4.7M', '€4.3M',\n",
       "       '€2.1M', '€1.2M', '€1.8M', '€4.8M', '€3.2M', '€1.3M', '€825K',\n",
       "       '€2.3M', '€1.5M', '€3.9M', '€2.6M', '€3.5M', '€2.8M', '€2.7M',\n",
       "       '€4.4M', '€4.1M', '€950K', '€1.6M', '€625K', '€1.1M', '€4.5M',\n",
       "       '€4.2M', '€2.2M', '€3.3M', '€1.4M', '€2M', '€475K', '€925K',\n",
       "       '€750K', '€725K', '€2.5M', '€1M', '€350K', '€525K', '€600K',\n",
       "       '€850K', '€800K', '€550K', '€250K', '€400K', '€425K', '€575K',\n",
       "       '€210K', '€325K', '€900K', '€875K', '€650K', '€700K', '€500K',\n",
       "       '€975K', '€375K', '€775K', '€275K', '€180K', '€450K', '€675K',\n",
       "       '€150K', '€240K', '€300K', '€130K', '€220K', '€200K', '€110K',\n",
       "       '€170K', '€230K', '€90K', '€120K', '€80K', '€190K', '€140K',\n",
       "       '€160K', '€100K', '€60K', '€50K', '€70K', '€45K', '€35K', '€40K',\n",
       "       '€25K', '€20K', '€15K', '€30K', '€9K'], dtype=object)"
      ]
     },
     "execution_count": 80,
     "metadata": {},
     "output_type": "execute_result"
    }
   ],
   "source": [
    "df.Value.unique()"
   ]
  },
  {
   "cell_type": "code",
   "execution_count": 81,
   "id": "383f0728",
   "metadata": {},
   "outputs": [],
   "source": [
    "def convert_to_int(value):\n",
    "    value = value.replace('€', '')\n",
    "    if 'M' in value:\n",
    "        return int(float(value.replace('M', '')) * 1_000_000)\n",
    "    elif 'K' in value:\n",
    "        return int(float(value.replace('K', '')) * 1_000)\n",
    "    else:\n",
    "        return int(value)"
   ]
  },
  {
   "cell_type": "code",
   "execution_count": 82,
   "id": "b1d4ae32",
   "metadata": {},
   "outputs": [],
   "source": [
    "df.Value=df.Value.apply(convert_to_int)"
   ]
  },
  {
   "cell_type": "code",
   "execution_count": 83,
   "id": "9418aa05",
   "metadata": {},
   "outputs": [
    {
     "data": {
      "text/plain": [
       "0        103500000\n",
       "1         63000000\n",
       "2        120000000\n",
       "3        129000000\n",
       "4        132000000\n",
       "           ...    \n",
       "18974       100000\n",
       "18975       130000\n",
       "18976       120000\n",
       "18977       100000\n",
       "18978       100000\n",
       "Name: Value, Length: 18979, dtype: int64"
      ]
     },
     "execution_count": 83,
     "metadata": {},
     "output_type": "execute_result"
    }
   ],
   "source": [
    "df.Value"
   ]
  },
  {
   "cell_type": "code",
   "execution_count": 84,
   "id": "8b4f4231",
   "metadata": {},
   "outputs": [],
   "source": [
    "df.Wage=df2.Wage"
   ]
  },
  {
   "cell_type": "code",
   "execution_count": 85,
   "id": "cc08a648",
   "metadata": {},
   "outputs": [
    {
     "data": {
      "text/plain": [
       "array(['€560K', '€220K', '€125K', '€370K', '€270K', '€240K', '€250K',\n",
       "       '€160K', '€260K', '€210K', '€310K', '€130K', '€350K', '€300K',\n",
       "       '€190K', '€145K', '€195K', '€100K', '€140K', '€290K', '€82K',\n",
       "       '€110K', '€230K', '€155K', '€200K', '€165K', '€95K', '€170K',\n",
       "       '€105K', '€115K', '€150K', '€135K', '€55K', '€58K', '€81K', '€34K',\n",
       "       '€120K', '€59K', '€90K', '€65K', '€56K', '€71K', '€18K', '€75K',\n",
       "       '€47K', '€20K', '€84K', '€86K', '€74K', '€78K', '€27K', '€68K',\n",
       "       '€85K', '€25K', '€46K', '€83K', '€54K', '€79K', '€175K', '€43K',\n",
       "       '€49K', '€45K', '€38K', '€41K', '€39K', '€23K', '€51K', '€50K',\n",
       "       '€87K', '€30K', '€14K', '€69K', '€31K', '€64K', '€53K', '€35K',\n",
       "       '€21K', '€28K', '€17K', '€33K', '€70K', '€32K', '€89K', '€26K',\n",
       "       '€40K', '€76K', '€72K', '€48K', '€36K', '€29K', '€60K', '€16K',\n",
       "       '€37K', '€24K', '€52K', '€0', '€62K', '€73K', '€63K', '€19K',\n",
       "       '€1K', '€66K', '€80K', '€12K', '€2K', '€42K', '€13K', '€900',\n",
       "       '€57K', '€77K', '€61K', '€22K', '€67K', '€44K', '€15K', '€11K',\n",
       "       '€8K', '€850', '€10K', '€88K', '€500', '€7K', '€6K', '€9K', '€5K',\n",
       "       '€700', '€950', '€750', '€3K', '€650', '€600', '€4K', '€800',\n",
       "       '€550'], dtype=object)"
      ]
     },
     "execution_count": 85,
     "metadata": {},
     "output_type": "execute_result"
    }
   ],
   "source": [
    "df.Wage.unique()"
   ]
  },
  {
   "cell_type": "code",
   "execution_count": 86,
   "id": "e791453b",
   "metadata": {},
   "outputs": [],
   "source": [
    "df.Wage=df.Wage.str.replace('€','')"
   ]
  },
  {
   "cell_type": "code",
   "execution_count": 87,
   "id": "d2683a95",
   "metadata": {},
   "outputs": [
    {
     "data": {
      "text/plain": [
       "array(['560K', '220K', '125K', '370K', '270K', '240K', '250K', '160K',\n",
       "       '260K', '210K', '310K', '130K', '350K', '300K', '190K', '145K',\n",
       "       '195K', '100K', '140K', '290K', '82K', '110K', '230K', '155K',\n",
       "       '200K', '165K', '95K', '170K', '105K', '115K', '150K', '135K',\n",
       "       '55K', '58K', '81K', '34K', '120K', '59K', '90K', '65K', '56K',\n",
       "       '71K', '18K', '75K', '47K', '20K', '84K', '86K', '74K', '78K',\n",
       "       '27K', '68K', '85K', '25K', '46K', '83K', '54K', '79K', '175K',\n",
       "       '43K', '49K', '45K', '38K', '41K', '39K', '23K', '51K', '50K',\n",
       "       '87K', '30K', '14K', '69K', '31K', '64K', '53K', '35K', '21K',\n",
       "       '28K', '17K', '33K', '70K', '32K', '89K', '26K', '40K', '76K',\n",
       "       '72K', '48K', '36K', '29K', '60K', '16K', '37K', '24K', '52K', '0',\n",
       "       '62K', '73K', '63K', '19K', '1K', '66K', '80K', '12K', '2K', '42K',\n",
       "       '13K', '900', '57K', '77K', '61K', '22K', '67K', '44K', '15K',\n",
       "       '11K', '8K', '850', '10K', '88K', '500', '7K', '6K', '9K', '5K',\n",
       "       '700', '950', '750', '3K', '650', '600', '4K', '800', '550'],\n",
       "      dtype=object)"
      ]
     },
     "execution_count": 87,
     "metadata": {},
     "output_type": "execute_result"
    }
   ],
   "source": [
    "df.Wage.unique()"
   ]
  },
  {
   "cell_type": "code",
   "execution_count": 88,
   "id": "28e0373c",
   "metadata": {},
   "outputs": [],
   "source": [
    "df.Wage=df.Wage.str.replace('K','000')"
   ]
  },
  {
   "cell_type": "code",
   "execution_count": 89,
   "id": "9e12199d",
   "metadata": {},
   "outputs": [
    {
     "data": {
      "text/plain": [
       "array(['560000', '220000', '125000', '370000', '270000', '240000',\n",
       "       '250000', '160000', '260000', '210000', '310000', '130000',\n",
       "       '350000', '300000', '190000', '145000', '195000', '100000',\n",
       "       '140000', '290000', '82000', '110000', '230000', '155000',\n",
       "       '200000', '165000', '95000', '170000', '105000', '115000',\n",
       "       '150000', '135000', '55000', '58000', '81000', '34000', '120000',\n",
       "       '59000', '90000', '65000', '56000', '71000', '18000', '75000',\n",
       "       '47000', '20000', '84000', '86000', '74000', '78000', '27000',\n",
       "       '68000', '85000', '25000', '46000', '83000', '54000', '79000',\n",
       "       '175000', '43000', '49000', '45000', '38000', '41000', '39000',\n",
       "       '23000', '51000', '50000', '87000', '30000', '14000', '69000',\n",
       "       '31000', '64000', '53000', '35000', '21000', '28000', '17000',\n",
       "       '33000', '70000', '32000', '89000', '26000', '40000', '76000',\n",
       "       '72000', '48000', '36000', '29000', '60000', '16000', '37000',\n",
       "       '24000', '52000', '0', '62000', '73000', '63000', '19000', '1000',\n",
       "       '66000', '80000', '12000', '2000', '42000', '13000', '900',\n",
       "       '57000', '77000', '61000', '22000', '67000', '44000', '15000',\n",
       "       '11000', '8000', '850', '10000', '88000', '500', '7000', '6000',\n",
       "       '9000', '5000', '700', '950', '750', '3000', '650', '600', '4000',\n",
       "       '800', '550'], dtype=object)"
      ]
     },
     "execution_count": 89,
     "metadata": {},
     "output_type": "execute_result"
    }
   ],
   "source": [
    "df.Wage.unique()"
   ]
  },
  {
   "cell_type": "code",
   "execution_count": 90,
   "id": "b7e6ee82",
   "metadata": {},
   "outputs": [
    {
     "data": {
      "text/plain": [
       "dtype('int64')"
      ]
     },
     "execution_count": 90,
     "metadata": {},
     "output_type": "execute_result"
    }
   ],
   "source": [
    "df.Value.dtypes"
   ]
  },
  {
   "cell_type": "code",
   "execution_count": 91,
   "id": "195c50ca",
   "metadata": {},
   "outputs": [
    {
     "data": {
      "text/plain": [
       "dtype('O')"
      ]
     },
     "execution_count": 91,
     "metadata": {},
     "output_type": "execute_result"
    }
   ],
   "source": [
    "df.Wage.dtype"
   ]
  },
  {
   "cell_type": "code",
   "execution_count": 92,
   "id": "6ad1a242",
   "metadata": {},
   "outputs": [],
   "source": [
    "df.Wage=df.Wage.astype('int')"
   ]
  },
  {
   "cell_type": "code",
   "execution_count": 93,
   "id": "eb1eecf4",
   "metadata": {},
   "outputs": [
    {
     "data": {
      "text/plain": [
       "dtype('int32')"
      ]
     },
     "execution_count": 93,
     "metadata": {},
     "output_type": "execute_result"
    }
   ],
   "source": [
    "df.Wage.dtypes"
   ]
  },
  {
   "cell_type": "code",
   "execution_count": 94,
   "id": "460c8d16",
   "metadata": {},
   "outputs": [
    {
     "data": {
      "text/plain": [
       "Release Clause\n",
       "€0        1261\n",
       "€1.1M      609\n",
       "€1.2M      504\n",
       "€1.3M      443\n",
       "€1.4M      385\n",
       "          ... \n",
       "€46.4M       1\n",
       "€36.3M       1\n",
       "€39.5M       1\n",
       "€49.8M       1\n",
       "€64K         1\n",
       "Name: count, Length: 1216, dtype: int64"
      ]
     },
     "execution_count": 94,
     "metadata": {},
     "output_type": "execute_result"
    }
   ],
   "source": [
    "df['Release Clause'].value_counts()"
   ]
  },
  {
   "cell_type": "code",
   "execution_count": 95,
   "id": "0c1052ad",
   "metadata": {},
   "outputs": [
    {
     "data": {
      "text/plain": [
       "0        138.4M\n",
       "1         75.9M\n",
       "2        159.4M\n",
       "3          161M\n",
       "4        166.5M\n",
       "          ...  \n",
       "18974       70K\n",
       "18975      165K\n",
       "18976      131K\n",
       "18977       88K\n",
       "18978       79K\n",
       "Name: Release Clause, Length: 18979, dtype: object"
      ]
     },
     "execution_count": 95,
     "metadata": {},
     "output_type": "execute_result"
    }
   ],
   "source": [
    "df['Release Clause'].str.replace(\"€\",'')"
   ]
  },
  {
   "cell_type": "code",
   "execution_count": 96,
   "id": "8dda4c7b",
   "metadata": {},
   "outputs": [],
   "source": [
    "df['Release Clause']=df['Release Clause'].apply(convert_to_int)"
   ]
  },
  {
   "cell_type": "code",
   "execution_count": 97,
   "id": "2d4a2e04",
   "metadata": {},
   "outputs": [
    {
     "data": {
      "text/plain": [
       "0        138400000\n",
       "1         75900000\n",
       "2        159400000\n",
       "3        161000000\n",
       "4        166500000\n",
       "           ...    \n",
       "18974        70000\n",
       "18975       165000\n",
       "18976       131000\n",
       "18977        88000\n",
       "18978        79000\n",
       "Name: Release Clause, Length: 18979, dtype: int64"
      ]
     },
     "execution_count": 97,
     "metadata": {},
     "output_type": "execute_result"
    }
   ],
   "source": [
    "df['Release Clause']"
   ]
  },
  {
   "cell_type": "code",
   "execution_count": 98,
   "id": "1ca3b429",
   "metadata": {},
   "outputs": [
    {
     "data": {
      "text/plain": [
       "0        771\n",
       "1        562\n",
       "2        150\n",
       "3        207\n",
       "4        595\n",
       "        ... \n",
       "18974    NaN\n",
       "18975    NaN\n",
       "18976    NaN\n",
       "18977    NaN\n",
       "18978    NaN\n",
       "Name: Hits, Length: 18979, dtype: object"
      ]
     },
     "execution_count": 98,
     "metadata": {},
     "output_type": "execute_result"
    }
   ],
   "source": [
    "df.Hits"
   ]
  },
  {
   "cell_type": "code",
   "execution_count": 99,
   "id": "7b65f52b",
   "metadata": {},
   "outputs": [
    {
     "data": {
      "text/plain": [
       "array(['771', '562', '150', '207', '595', '248', '246', '120', '1.6K',\n",
       "       '130', '321', '189', '175', '96', '118', '216', '212', '154',\n",
       "       '205', '202', '339', '408', '103', '332', '86', '173', '161',\n",
       "       '396', '1.1K', '433', '242', '206', '177', '1.5K', '198', '459',\n",
       "       '117', '119', '209', '84', '187', '165', '203', '65', '336', '126',\n",
       "       '313', '124', '145', '538', '182', '101', '45', '377', '99', '194',\n",
       "       '403', '414', '593', '374', '245', '3.2K', '266', '299', '309',\n",
       "       '215', '265', '211', '112', '337', '70', '159', '688', '116', '63',\n",
       "       '144', '123', '71', '224', '113', '168', '61', '89', '137', '278',\n",
       "       '75', '148', '176', '197', '264', '214', '247', '402', '440',\n",
       "       '1.7K', '2.3K', '171', '320', '657', '87', '259', '200', '255',\n",
       "       '253', '196', '60', '97', '85', '169', '256', '132', '239', '166',\n",
       "       '121', '109', '32', '46', '122', '48', '527', '199', '282', '51',\n",
       "       '1.9K', '642', '155', '323', '288', '497', '509', '79', '49',\n",
       "       '270', '511', '80', '128', '115', '156', '204', '143', '140',\n",
       "       '152', '220', '134', '225', '94', '74', '135', '142', '50', '77',\n",
       "       '40', '107', '193', '179', '34', '64', '453', '57', '81', '28',\n",
       "       '78', '133', '43', '425', '88', '42', '36', '233', '376', '210',\n",
       "       '444', '100', '263', '98', '29', '160', '39', '257', '6', '310',\n",
       "       '138', '62', '293', '285', '362', '66', '69', '58', '21', '20',\n",
       "       '131', '38', '406', '68', '108', '110', '93', '512', '443', '306',\n",
       "       '352', '422', '585', '346', '178', '841', '76', '394', '72', '172',\n",
       "       '44', '407', '230', '367', '295', '157', '243', '56', '111', '326',\n",
       "       '679', '18', '92', '59', '25', '184', '53', '12', '90', '55', '73',\n",
       "       '11', '566', '180', '83', '262', '17', '26', '31', '280', '359',\n",
       "       '213', '297', '387', '480', '381', '677', '486', '8', '244', '129',\n",
       "       '388', '275', '319', '2K', '52', '91', '421', '153', '27', '41',\n",
       "       '222', '35', '102', '23', '30', '33', '146', '13', '19', '14',\n",
       "       '106', '276', '568', '353', '47', '478', '249', '254', '369',\n",
       "       '219', '565', '237', '227', '434', '375', '162', '605', '654', '3',\n",
       "       '7', '9', '104', '114', '186', '446', '756', '22', '139', '500',\n",
       "       '67', '147', '149', '16', '82', '54', '37', '15', '1.3K', '3K',\n",
       "       '952', '5', '749', '541', '330', '393', '517', '770', '409', '170',\n",
       "       '125', '283', '342', '363', '580', '105', '217', '24', '141', '10',\n",
       "       '427', '158', '426', '4', '666', '181', '324', '979', '1.4K',\n",
       "       '302', '751', '298', '411', '944', '2', '947', '292', '349', '621',\n",
       "       '1', '2.8K', '338', '287', '261', '218', '1.8K', '240', '279',\n",
       "       '229', '188', '315', '664', '613', '190', '706', '127', '462',\n",
       "       '386', '695', '491', '167', '281', '250', '307', '95', '231',\n",
       "       '174', '680', '633', '221', '348', '602', '183', '653', '195',\n",
       "       '164', '151', '258', '8.4K', '343', '419', '655', '136', '399',\n",
       "       '531', '357', '228', '385', '312', '340', '238', '487', '355',\n",
       "       '499', '4.3K', '296', '515', '943', '1.2K', '903', '335', '191',\n",
       "       '594', '267', '617', '516', '504', '331', '652', '410', '550',\n",
       "       '473', '442', '344', '208', '1K', '2.5K', '273', '485', '826',\n",
       "       '192', '405', '941', '477', '644', '303', '417', '6K', nan, 11.0,\n",
       "       2.0, 1.0, 31.0, 3.0, 10.0, 9.0, 17.0, 7.0, 4.0, 6.0], dtype=object)"
      ]
     },
     "execution_count": 99,
     "metadata": {},
     "output_type": "execute_result"
    }
   ],
   "source": [
    "df.Hits.unique()"
   ]
  },
  {
   "cell_type": "code",
   "execution_count": 100,
   "id": "9f2eb720",
   "metadata": {},
   "outputs": [
    {
     "data": {
      "text/plain": [
       "ID                     0\n",
       "Name                   0\n",
       "LongName               0\n",
       "photoUrl               0\n",
       "playerUrl              0\n",
       "                    ... \n",
       "PHY                    0\n",
       "Hits                2595\n",
       "Year of Joining        0\n",
       "Month of Joining       0\n",
       "Day of Joining         0\n",
       "Length: 80, dtype: int64"
      ]
     },
     "execution_count": 100,
     "metadata": {},
     "output_type": "execute_result"
    }
   ],
   "source": [
    "df.isnull().sum()"
   ]
  },
  {
   "cell_type": "code",
   "execution_count": 101,
   "id": "bdc723f4",
   "metadata": {},
   "outputs": [
    {
     "data": {
      "text/plain": [
       "2595"
      ]
     },
     "execution_count": 101,
     "metadata": {},
     "output_type": "execute_result"
    }
   ],
   "source": [
    "df.Hits.isnull().sum()"
   ]
  },
  {
   "cell_type": "code",
   "execution_count": 102,
   "id": "bdd14ba4",
   "metadata": {},
   "outputs": [
    {
     "data": {
      "text/plain": [
       "(18979, 80)"
      ]
     },
     "execution_count": 102,
     "metadata": {},
     "output_type": "execute_result"
    }
   ],
   "source": [
    "df.shape"
   ]
  },
  {
   "cell_type": "code",
   "execution_count": 103,
   "id": "854d9b5b",
   "metadata": {},
   "outputs": [],
   "source": [
    "df.Hits.dropna(inplace=True)"
   ]
  },
  {
   "cell_type": "code",
   "execution_count": 104,
   "id": "a5934b49",
   "metadata": {},
   "outputs": [
    {
     "data": {
      "text/plain": [
       "2595"
      ]
     },
     "execution_count": 104,
     "metadata": {},
     "output_type": "execute_result"
    }
   ],
   "source": [
    "df.Hits.isnull().sum()"
   ]
  },
  {
   "cell_type": "code",
   "execution_count": 105,
   "id": "276c9175",
   "metadata": {},
   "outputs": [
    {
     "data": {
      "text/plain": [
       "(18979, 80)"
      ]
     },
     "execution_count": 105,
     "metadata": {},
     "output_type": "execute_result"
    }
   ],
   "source": [
    "df.shape"
   ]
  },
  {
   "cell_type": "code",
   "execution_count": 106,
   "id": "15ea575c",
   "metadata": {},
   "outputs": [
    {
     "data": {
      "text/plain": [
       "array(['771', '562', '150', '207', '595', '248', '246', '120', '1.6K',\n",
       "       '130', '321', '189', '175', '96', '118', '216', '212', '154',\n",
       "       '205', '202', '339', '408', '103', '332', '86', '173', '161',\n",
       "       '396', '1.1K', '433', '242', '206', '177', '1.5K', '198', '459',\n",
       "       '117', '119', '209', '84', '187', '165', '203', '65', '336', '126',\n",
       "       '313', '124', '145', '538', '182', '101', '45', '377', '99', '194',\n",
       "       '403', '414', '593', '374', '245', '3.2K', '266', '299', '309',\n",
       "       '215', '265', '211', '112', '337', '70', '159', '688', '116', '63',\n",
       "       '144', '123', '71', '224', '113', '168', '61', '89', '137', '278',\n",
       "       '75', '148', '176', '197', '264', '214', '247', '402', '440',\n",
       "       '1.7K', '2.3K', '171', '320', '657', '87', '259', '200', '255',\n",
       "       '253', '196', '60', '97', '85', '169', '256', '132', '239', '166',\n",
       "       '121', '109', '32', '46', '122', '48', '527', '199', '282', '51',\n",
       "       '1.9K', '642', '155', '323', '288', '497', '509', '79', '49',\n",
       "       '270', '511', '80', '128', '115', '156', '204', '143', '140',\n",
       "       '152', '220', '134', '225', '94', '74', '135', '142', '50', '77',\n",
       "       '40', '107', '193', '179', '34', '64', '453', '57', '81', '28',\n",
       "       '78', '133', '43', '425', '88', '42', '36', '233', '376', '210',\n",
       "       '444', '100', '263', '98', '29', '160', '39', '257', '6', '310',\n",
       "       '138', '62', '293', '285', '362', '66', '69', '58', '21', '20',\n",
       "       '131', '38', '406', '68', '108', '110', '93', '512', '443', '306',\n",
       "       '352', '422', '585', '346', '178', '841', '76', '394', '72', '172',\n",
       "       '44', '407', '230', '367', '295', '157', '243', '56', '111', '326',\n",
       "       '679', '18', '92', '59', '25', '184', '53', '12', '90', '55', '73',\n",
       "       '11', '566', '180', '83', '262', '17', '26', '31', '280', '359',\n",
       "       '213', '297', '387', '480', '381', '677', '486', '8', '244', '129',\n",
       "       '388', '275', '319', '2K', '52', '91', '421', '153', '27', '41',\n",
       "       '222', '35', '102', '23', '30', '33', '146', '13', '19', '14',\n",
       "       '106', '276', '568', '353', '47', '478', '249', '254', '369',\n",
       "       '219', '565', '237', '227', '434', '375', '162', '605', '654', '3',\n",
       "       '7', '9', '104', '114', '186', '446', '756', '22', '139', '500',\n",
       "       '67', '147', '149', '16', '82', '54', '37', '15', '1.3K', '3K',\n",
       "       '952', '5', '749', '541', '330', '393', '517', '770', '409', '170',\n",
       "       '125', '283', '342', '363', '580', '105', '217', '24', '141', '10',\n",
       "       '427', '158', '426', '4', '666', '181', '324', '979', '1.4K',\n",
       "       '302', '751', '298', '411', '944', '2', '947', '292', '349', '621',\n",
       "       '1', '2.8K', '338', '287', '261', '218', '1.8K', '240', '279',\n",
       "       '229', '188', '315', '664', '613', '190', '706', '127', '462',\n",
       "       '386', '695', '491', '167', '281', '250', '307', '95', '231',\n",
       "       '174', '680', '633', '221', '348', '602', '183', '653', '195',\n",
       "       '164', '151', '258', '8.4K', '343', '419', '655', '136', '399',\n",
       "       '531', '357', '228', '385', '312', '340', '238', '487', '355',\n",
       "       '499', '4.3K', '296', '515', '943', '1.2K', '903', '335', '191',\n",
       "       '594', '267', '617', '516', '504', '331', '652', '410', '550',\n",
       "       '473', '442', '344', '208', '1K', '2.5K', '273', '485', '826',\n",
       "       '192', '405', '941', '477', '644', '303', '417', '6K', nan, 11.0,\n",
       "       2.0, 1.0, 31.0, 3.0, 10.0, 9.0, 17.0, 7.0, 4.0, 6.0], dtype=object)"
      ]
     },
     "execution_count": 106,
     "metadata": {},
     "output_type": "execute_result"
    }
   ],
   "source": [
    "df.Hits.unique()"
   ]
  },
  {
   "cell_type": "code",
   "execution_count": 107,
   "id": "b7d70b2d",
   "metadata": {},
   "outputs": [],
   "source": [
    "df.Hits=df.Hits.str.replace('\\n','',regex=True)"
   ]
  },
  {
   "cell_type": "code",
   "execution_count": 108,
   "id": "baa8b8ab",
   "metadata": {},
   "outputs": [
    {
     "data": {
      "text/plain": [
       "0        771\n",
       "1        562\n",
       "2        150\n",
       "3        207\n",
       "4        595\n",
       "        ... \n",
       "18974    NaN\n",
       "18975    NaN\n",
       "18976    NaN\n",
       "18977    NaN\n",
       "18978    NaN\n",
       "Name: Hits, Length: 18979, dtype: object"
      ]
     },
     "execution_count": 108,
     "metadata": {},
     "output_type": "execute_result"
    }
   ],
   "source": [
    "df.Hits"
   ]
  },
  {
   "cell_type": "code",
   "execution_count": 109,
   "id": "c85c8485",
   "metadata": {},
   "outputs": [
    {
     "data": {
      "text/plain": [
       "ID                     0\n",
       "Name                   0\n",
       "LongName               0\n",
       "photoUrl               0\n",
       "playerUrl              0\n",
       "                    ... \n",
       "PHY                    0\n",
       "Hits                2622\n",
       "Year of Joining        0\n",
       "Month of Joining       0\n",
       "Day of Joining         0\n",
       "Length: 80, dtype: int64"
      ]
     },
     "execution_count": 109,
     "metadata": {},
     "output_type": "execute_result"
    }
   ],
   "source": [
    "df.isnull().sum()"
   ]
  },
  {
   "cell_type": "code",
   "execution_count": null,
   "id": "de274e9a",
   "metadata": {},
   "outputs": [],
   "source": []
  },
  {
   "cell_type": "code",
   "execution_count": 110,
   "id": "38b6853c",
   "metadata": {},
   "outputs": [
    {
     "data": {
      "text/plain": [
       "(18979, 80)"
      ]
     },
     "execution_count": 110,
     "metadata": {},
     "output_type": "execute_result"
    }
   ],
   "source": []
  },
  {
   "cell_type": "code",
   "execution_count": 111,
   "id": "e43cc4af",
   "metadata": {},
   "outputs": [
    {
     "data": {
      "text/plain": [
       "ID                   int64\n",
       "Name                object\n",
       "LongName            object\n",
       "photoUrl            object\n",
       "playerUrl           object\n",
       "                     ...  \n",
       "PHY                  int64\n",
       "Hits                object\n",
       "Year of Joining      int32\n",
       "Month of Joining    object\n",
       "Day of Joining      object\n",
       "Length: 80, dtype: object"
      ]
     },
     "execution_count": 111,
     "metadata": {},
     "output_type": "execute_result"
    }
   ],
   "source": []
  },
  {
   "cell_type": "code",
   "execution_count": 112,
   "id": "96507ded",
   "metadata": {},
   "outputs": [
    {
     "data": {
      "text/plain": [
       "Index(['ID', 'Name', 'LongName', 'photoUrl', 'playerUrl', 'Nationality', 'Age',\n",
       "       '↓OVA', 'POT', 'Club', 'Contract', 'Positions', 'Height', 'Weight',\n",
       "       'Preferred Foot', 'BOV', 'Best Position', 'Joined', 'Loan Date End',\n",
       "       'Value', 'Wage', 'Release Clause', 'Attacking', 'Crossing', 'Finishing',\n",
       "       'Heading Accuracy', 'Short Passing', 'Volleys', 'Skill', 'Dribbling',\n",
       "       'Curve', 'FK Accuracy', 'Long Passing', 'Ball Control', 'Movement',\n",
       "       'Acceleration', 'Sprint Speed', 'Agility', 'Reactions', 'Balance',\n",
       "       'Power', 'Shot Power', 'Jumping', 'Stamina', 'Strength', 'Long Shots',\n",
       "       'Mentality', 'Aggression', 'Interceptions', 'Positioning', 'Vision',\n",
       "       'Penalties', 'Composure', 'Defending', 'Marking', 'Standing Tackle',\n",
       "       'Sliding Tackle', 'Goalkeeping', 'GK Diving', 'GK Handling',\n",
       "       'GK Kicking', 'GK Positioning', 'GK Reflexes', 'Total Stats',\n",
       "       'Base Stats', 'W/F', 'SM', 'A/W', 'D/W', 'IR', 'PAC', 'SHO', 'PAS',\n",
       "       'DRI', 'DEF', 'PHY', 'Hits', 'Year of Joining', 'Month of Joining',\n",
       "       'Day of Joining'],\n",
       "      dtype='object')"
      ]
     },
     "execution_count": 112,
     "metadata": {},
     "output_type": "execute_result"
    }
   ],
   "source": [
    "df.columns"
   ]
  },
  {
   "cell_type": "code",
   "execution_count": 115,
   "id": "b45a2575",
   "metadata": {},
   "outputs": [
    {
     "data": {
      "text/html": [
       "<div>\n",
       "<style scoped>\n",
       "    .dataframe tbody tr th:only-of-type {\n",
       "        vertical-align: middle;\n",
       "    }\n",
       "\n",
       "    .dataframe tbody tr th {\n",
       "        vertical-align: top;\n",
       "    }\n",
       "\n",
       "    .dataframe thead th {\n",
       "        text-align: right;\n",
       "    }\n",
       "</style>\n",
       "<table border=\"1\" class=\"dataframe\">\n",
       "  <thead>\n",
       "    <tr style=\"text-align: right;\">\n",
       "      <th></th>\n",
       "      <th>ID</th>\n",
       "      <th>Name</th>\n",
       "      <th>LongName</th>\n",
       "      <th>photoUrl</th>\n",
       "      <th>playerUrl</th>\n",
       "      <th>Nationality</th>\n",
       "      <th>Age</th>\n",
       "      <th>↓OVA</th>\n",
       "      <th>POT</th>\n",
       "      <th>Club</th>\n",
       "      <th>...</th>\n",
       "      <th>PAC</th>\n",
       "      <th>SHO</th>\n",
       "      <th>PAS</th>\n",
       "      <th>DRI</th>\n",
       "      <th>DEF</th>\n",
       "      <th>PHY</th>\n",
       "      <th>Hits</th>\n",
       "      <th>Year of Joining</th>\n",
       "      <th>Month of Joining</th>\n",
       "      <th>Day of Joining</th>\n",
       "    </tr>\n",
       "  </thead>\n",
       "  <tbody>\n",
       "    <tr>\n",
       "      <th>0</th>\n",
       "      <td>158023</td>\n",
       "      <td>L. Messi</td>\n",
       "      <td>Lionel Messi</td>\n",
       "      <td>https://cdn.sofifa.com/players/158/023/21_60.png</td>\n",
       "      <td>http://sofifa.com/player/158023/lionel-messi/2...</td>\n",
       "      <td>Argentina</td>\n",
       "      <td>33</td>\n",
       "      <td>93</td>\n",
       "      <td>93</td>\n",
       "      <td>\\n\\n\\n\\nFC Barcelona</td>\n",
       "      <td>...</td>\n",
       "      <td>85</td>\n",
       "      <td>92</td>\n",
       "      <td>91</td>\n",
       "      <td>95</td>\n",
       "      <td>38</td>\n",
       "      <td>65</td>\n",
       "      <td>771</td>\n",
       "      <td>2004</td>\n",
       "      <td>July</td>\n",
       "      <td>Thursday</td>\n",
       "    </tr>\n",
       "    <tr>\n",
       "      <th>1</th>\n",
       "      <td>20801</td>\n",
       "      <td>Cristiano Ronaldo</td>\n",
       "      <td>C. Ronaldo dos Santos Aveiro</td>\n",
       "      <td>https://cdn.sofifa.com/players/020/801/21_60.png</td>\n",
       "      <td>http://sofifa.com/player/20801/c-ronaldo-dos-s...</td>\n",
       "      <td>Portugal</td>\n",
       "      <td>35</td>\n",
       "      <td>92</td>\n",
       "      <td>92</td>\n",
       "      <td>\\n\\n\\n\\nJuventus</td>\n",
       "      <td>...</td>\n",
       "      <td>89</td>\n",
       "      <td>93</td>\n",
       "      <td>81</td>\n",
       "      <td>89</td>\n",
       "      <td>35</td>\n",
       "      <td>77</td>\n",
       "      <td>562</td>\n",
       "      <td>2018</td>\n",
       "      <td>July</td>\n",
       "      <td>Tuesday</td>\n",
       "    </tr>\n",
       "    <tr>\n",
       "      <th>2</th>\n",
       "      <td>200389</td>\n",
       "      <td>J. Oblak</td>\n",
       "      <td>Jan Oblak</td>\n",
       "      <td>https://cdn.sofifa.com/players/200/389/21_60.png</td>\n",
       "      <td>http://sofifa.com/player/200389/jan-oblak/210006/</td>\n",
       "      <td>Slovenia</td>\n",
       "      <td>27</td>\n",
       "      <td>91</td>\n",
       "      <td>93</td>\n",
       "      <td>\\n\\n\\n\\nAtlético Madrid</td>\n",
       "      <td>...</td>\n",
       "      <td>87</td>\n",
       "      <td>92</td>\n",
       "      <td>78</td>\n",
       "      <td>90</td>\n",
       "      <td>52</td>\n",
       "      <td>90</td>\n",
       "      <td>150</td>\n",
       "      <td>2014</td>\n",
       "      <td>July</td>\n",
       "      <td>Wednesday</td>\n",
       "    </tr>\n",
       "    <tr>\n",
       "      <th>3</th>\n",
       "      <td>192985</td>\n",
       "      <td>K. De Bruyne</td>\n",
       "      <td>Kevin De Bruyne</td>\n",
       "      <td>https://cdn.sofifa.com/players/192/985/21_60.png</td>\n",
       "      <td>http://sofifa.com/player/192985/kevin-de-bruyn...</td>\n",
       "      <td>Belgium</td>\n",
       "      <td>29</td>\n",
       "      <td>91</td>\n",
       "      <td>91</td>\n",
       "      <td>\\n\\n\\n\\nManchester City</td>\n",
       "      <td>...</td>\n",
       "      <td>76</td>\n",
       "      <td>86</td>\n",
       "      <td>93</td>\n",
       "      <td>88</td>\n",
       "      <td>64</td>\n",
       "      <td>78</td>\n",
       "      <td>207</td>\n",
       "      <td>2015</td>\n",
       "      <td>August</td>\n",
       "      <td>Sunday</td>\n",
       "    </tr>\n",
       "    <tr>\n",
       "      <th>4</th>\n",
       "      <td>190871</td>\n",
       "      <td>Neymar Jr</td>\n",
       "      <td>Neymar da Silva Santos Jr.</td>\n",
       "      <td>https://cdn.sofifa.com/players/190/871/21_60.png</td>\n",
       "      <td>http://sofifa.com/player/190871/neymar-da-silv...</td>\n",
       "      <td>Brazil</td>\n",
       "      <td>28</td>\n",
       "      <td>91</td>\n",
       "      <td>91</td>\n",
       "      <td>\\n\\n\\n\\nParis Saint-Germain</td>\n",
       "      <td>...</td>\n",
       "      <td>91</td>\n",
       "      <td>85</td>\n",
       "      <td>86</td>\n",
       "      <td>94</td>\n",
       "      <td>36</td>\n",
       "      <td>59</td>\n",
       "      <td>595</td>\n",
       "      <td>2017</td>\n",
       "      <td>August</td>\n",
       "      <td>Thursday</td>\n",
       "    </tr>\n",
       "  </tbody>\n",
       "</table>\n",
       "<p>5 rows × 80 columns</p>\n",
       "</div>"
      ],
      "text/plain": [
       "       ID               Name                      LongName  \\\n",
       "0  158023           L. Messi                  Lionel Messi   \n",
       "1   20801  Cristiano Ronaldo  C. Ronaldo dos Santos Aveiro   \n",
       "2  200389           J. Oblak                     Jan Oblak   \n",
       "3  192985       K. De Bruyne               Kevin De Bruyne   \n",
       "4  190871          Neymar Jr    Neymar da Silva Santos Jr.   \n",
       "\n",
       "                                           photoUrl  \\\n",
       "0  https://cdn.sofifa.com/players/158/023/21_60.png   \n",
       "1  https://cdn.sofifa.com/players/020/801/21_60.png   \n",
       "2  https://cdn.sofifa.com/players/200/389/21_60.png   \n",
       "3  https://cdn.sofifa.com/players/192/985/21_60.png   \n",
       "4  https://cdn.sofifa.com/players/190/871/21_60.png   \n",
       "\n",
       "                                           playerUrl Nationality  Age  ↓OVA  \\\n",
       "0  http://sofifa.com/player/158023/lionel-messi/2...   Argentina   33    93   \n",
       "1  http://sofifa.com/player/20801/c-ronaldo-dos-s...    Portugal   35    92   \n",
       "2  http://sofifa.com/player/200389/jan-oblak/210006/    Slovenia   27    91   \n",
       "3  http://sofifa.com/player/192985/kevin-de-bruyn...     Belgium   29    91   \n",
       "4  http://sofifa.com/player/190871/neymar-da-silv...      Brazil   28    91   \n",
       "\n",
       "   POT                         Club  ... PAC SHO  PAS  DRI DEF  PHY Hits  \\\n",
       "0   93         \\n\\n\\n\\nFC Barcelona  ...  85  92   91   95  38   65  771   \n",
       "1   92             \\n\\n\\n\\nJuventus  ...  89  93   81   89  35   77  562   \n",
       "2   93      \\n\\n\\n\\nAtlético Madrid  ...  87  92   78   90  52   90  150   \n",
       "3   91      \\n\\n\\n\\nManchester City  ...  76  86   93   88  64   78  207   \n",
       "4   91  \\n\\n\\n\\nParis Saint-Germain  ...  91  85   86   94  36   59  595   \n",
       "\n",
       "  Year of Joining Month of Joining  Day of Joining  \n",
       "0            2004             July        Thursday  \n",
       "1            2018             July         Tuesday  \n",
       "2            2014             July       Wednesday  \n",
       "3            2015           August          Sunday  \n",
       "4            2017           August        Thursday  \n",
       "\n",
       "[5 rows x 80 columns]"
      ]
     },
     "execution_count": 115,
     "metadata": {},
     "output_type": "execute_result"
    }
   ],
   "source": [
    "df.head()"
   ]
  },
  {
   "cell_type": "code",
   "execution_count": 116,
   "id": "3e7e08cc",
   "metadata": {},
   "outputs": [
    {
     "data": {
      "text/plain": [
       "0               \\n\\n\\n\\nFC Barcelona\n",
       "1                   \\n\\n\\n\\nJuventus\n",
       "2            \\n\\n\\n\\nAtlético Madrid\n",
       "3            \\n\\n\\n\\nManchester City\n",
       "4        \\n\\n\\n\\nParis Saint-Germain\n",
       "                    ...             \n",
       "18974             \\n\\n\\n\\nWuhan Zall\n",
       "18975        \\n\\n\\n\\nOldham Athletic\n",
       "18976             \\n\\n\\n\\nDerry City\n",
       "18977       \\n\\n\\n\\nDalian YiFang FC\n",
       "18978       \\n\\n\\n\\nDalian YiFang FC\n",
       "Name: Club, Length: 18979, dtype: object"
      ]
     },
     "execution_count": 116,
     "metadata": {},
     "output_type": "execute_result"
    }
   ],
   "source": [
    "df.Club"
   ]
  },
  {
   "cell_type": "code",
   "execution_count": 117,
   "id": "d2c9a627",
   "metadata": {},
   "outputs": [],
   "source": [
    "df.Club=df.Club.str.replace('\\n','')"
   ]
  },
  {
   "cell_type": "code",
   "execution_count": 119,
   "id": "bbd9eba9",
   "metadata": {},
   "outputs": [
    {
     "data": {
      "text/html": [
       "<div>\n",
       "<style scoped>\n",
       "    .dataframe tbody tr th:only-of-type {\n",
       "        vertical-align: middle;\n",
       "    }\n",
       "\n",
       "    .dataframe tbody tr th {\n",
       "        vertical-align: top;\n",
       "    }\n",
       "\n",
       "    .dataframe thead th {\n",
       "        text-align: right;\n",
       "    }\n",
       "</style>\n",
       "<table border=\"1\" class=\"dataframe\">\n",
       "  <thead>\n",
       "    <tr style=\"text-align: right;\">\n",
       "      <th></th>\n",
       "      <th>ID</th>\n",
       "      <th>Name</th>\n",
       "      <th>LongName</th>\n",
       "      <th>photoUrl</th>\n",
       "      <th>playerUrl</th>\n",
       "      <th>Nationality</th>\n",
       "      <th>Age</th>\n",
       "      <th>↓OVA</th>\n",
       "      <th>POT</th>\n",
       "      <th>Club</th>\n",
       "      <th>...</th>\n",
       "      <th>PAC</th>\n",
       "      <th>SHO</th>\n",
       "      <th>PAS</th>\n",
       "      <th>DRI</th>\n",
       "      <th>DEF</th>\n",
       "      <th>PHY</th>\n",
       "      <th>Hits</th>\n",
       "      <th>Year of Joining</th>\n",
       "      <th>Month of Joining</th>\n",
       "      <th>Day of Joining</th>\n",
       "    </tr>\n",
       "  </thead>\n",
       "  <tbody>\n",
       "    <tr>\n",
       "      <th>0</th>\n",
       "      <td>158023</td>\n",
       "      <td>L. Messi</td>\n",
       "      <td>Lionel Messi</td>\n",
       "      <td>https://cdn.sofifa.com/players/158/023/21_60.png</td>\n",
       "      <td>http://sofifa.com/player/158023/lionel-messi/2...</td>\n",
       "      <td>Argentina</td>\n",
       "      <td>33</td>\n",
       "      <td>93</td>\n",
       "      <td>93</td>\n",
       "      <td>FC Barcelona</td>\n",
       "      <td>...</td>\n",
       "      <td>85</td>\n",
       "      <td>92</td>\n",
       "      <td>91</td>\n",
       "      <td>95</td>\n",
       "      <td>38</td>\n",
       "      <td>65</td>\n",
       "      <td>771</td>\n",
       "      <td>2004</td>\n",
       "      <td>July</td>\n",
       "      <td>Thursday</td>\n",
       "    </tr>\n",
       "    <tr>\n",
       "      <th>1</th>\n",
       "      <td>20801</td>\n",
       "      <td>Cristiano Ronaldo</td>\n",
       "      <td>C. Ronaldo dos Santos Aveiro</td>\n",
       "      <td>https://cdn.sofifa.com/players/020/801/21_60.png</td>\n",
       "      <td>http://sofifa.com/player/20801/c-ronaldo-dos-s...</td>\n",
       "      <td>Portugal</td>\n",
       "      <td>35</td>\n",
       "      <td>92</td>\n",
       "      <td>92</td>\n",
       "      <td>Juventus</td>\n",
       "      <td>...</td>\n",
       "      <td>89</td>\n",
       "      <td>93</td>\n",
       "      <td>81</td>\n",
       "      <td>89</td>\n",
       "      <td>35</td>\n",
       "      <td>77</td>\n",
       "      <td>562</td>\n",
       "      <td>2018</td>\n",
       "      <td>July</td>\n",
       "      <td>Tuesday</td>\n",
       "    </tr>\n",
       "    <tr>\n",
       "      <th>2</th>\n",
       "      <td>200389</td>\n",
       "      <td>J. Oblak</td>\n",
       "      <td>Jan Oblak</td>\n",
       "      <td>https://cdn.sofifa.com/players/200/389/21_60.png</td>\n",
       "      <td>http://sofifa.com/player/200389/jan-oblak/210006/</td>\n",
       "      <td>Slovenia</td>\n",
       "      <td>27</td>\n",
       "      <td>91</td>\n",
       "      <td>93</td>\n",
       "      <td>Atlético Madrid</td>\n",
       "      <td>...</td>\n",
       "      <td>87</td>\n",
       "      <td>92</td>\n",
       "      <td>78</td>\n",
       "      <td>90</td>\n",
       "      <td>52</td>\n",
       "      <td>90</td>\n",
       "      <td>150</td>\n",
       "      <td>2014</td>\n",
       "      <td>July</td>\n",
       "      <td>Wednesday</td>\n",
       "    </tr>\n",
       "    <tr>\n",
       "      <th>3</th>\n",
       "      <td>192985</td>\n",
       "      <td>K. De Bruyne</td>\n",
       "      <td>Kevin De Bruyne</td>\n",
       "      <td>https://cdn.sofifa.com/players/192/985/21_60.png</td>\n",
       "      <td>http://sofifa.com/player/192985/kevin-de-bruyn...</td>\n",
       "      <td>Belgium</td>\n",
       "      <td>29</td>\n",
       "      <td>91</td>\n",
       "      <td>91</td>\n",
       "      <td>Manchester City</td>\n",
       "      <td>...</td>\n",
       "      <td>76</td>\n",
       "      <td>86</td>\n",
       "      <td>93</td>\n",
       "      <td>88</td>\n",
       "      <td>64</td>\n",
       "      <td>78</td>\n",
       "      <td>207</td>\n",
       "      <td>2015</td>\n",
       "      <td>August</td>\n",
       "      <td>Sunday</td>\n",
       "    </tr>\n",
       "    <tr>\n",
       "      <th>4</th>\n",
       "      <td>190871</td>\n",
       "      <td>Neymar Jr</td>\n",
       "      <td>Neymar da Silva Santos Jr.</td>\n",
       "      <td>https://cdn.sofifa.com/players/190/871/21_60.png</td>\n",
       "      <td>http://sofifa.com/player/190871/neymar-da-silv...</td>\n",
       "      <td>Brazil</td>\n",
       "      <td>28</td>\n",
       "      <td>91</td>\n",
       "      <td>91</td>\n",
       "      <td>Paris Saint-Germain</td>\n",
       "      <td>...</td>\n",
       "      <td>91</td>\n",
       "      <td>85</td>\n",
       "      <td>86</td>\n",
       "      <td>94</td>\n",
       "      <td>36</td>\n",
       "      <td>59</td>\n",
       "      <td>595</td>\n",
       "      <td>2017</td>\n",
       "      <td>August</td>\n",
       "      <td>Thursday</td>\n",
       "    </tr>\n",
       "  </tbody>\n",
       "</table>\n",
       "<p>5 rows × 80 columns</p>\n",
       "</div>"
      ],
      "text/plain": [
       "       ID               Name                      LongName  \\\n",
       "0  158023           L. Messi                  Lionel Messi   \n",
       "1   20801  Cristiano Ronaldo  C. Ronaldo dos Santos Aveiro   \n",
       "2  200389           J. Oblak                     Jan Oblak   \n",
       "3  192985       K. De Bruyne               Kevin De Bruyne   \n",
       "4  190871          Neymar Jr    Neymar da Silva Santos Jr.   \n",
       "\n",
       "                                           photoUrl  \\\n",
       "0  https://cdn.sofifa.com/players/158/023/21_60.png   \n",
       "1  https://cdn.sofifa.com/players/020/801/21_60.png   \n",
       "2  https://cdn.sofifa.com/players/200/389/21_60.png   \n",
       "3  https://cdn.sofifa.com/players/192/985/21_60.png   \n",
       "4  https://cdn.sofifa.com/players/190/871/21_60.png   \n",
       "\n",
       "                                           playerUrl Nationality  Age  ↓OVA  \\\n",
       "0  http://sofifa.com/player/158023/lionel-messi/2...   Argentina   33    93   \n",
       "1  http://sofifa.com/player/20801/c-ronaldo-dos-s...    Portugal   35    92   \n",
       "2  http://sofifa.com/player/200389/jan-oblak/210006/    Slovenia   27    91   \n",
       "3  http://sofifa.com/player/192985/kevin-de-bruyn...     Belgium   29    91   \n",
       "4  http://sofifa.com/player/190871/neymar-da-silv...      Brazil   28    91   \n",
       "\n",
       "   POT                 Club  ... PAC SHO  PAS  DRI DEF  PHY Hits  \\\n",
       "0   93         FC Barcelona  ...  85  92   91   95  38   65  771   \n",
       "1   92             Juventus  ...  89  93   81   89  35   77  562   \n",
       "2   93      Atlético Madrid  ...  87  92   78   90  52   90  150   \n",
       "3   91      Manchester City  ...  76  86   93   88  64   78  207   \n",
       "4   91  Paris Saint-Germain  ...  91  85   86   94  36   59  595   \n",
       "\n",
       "  Year of Joining Month of Joining  Day of Joining  \n",
       "0            2004             July        Thursday  \n",
       "1            2018             July         Tuesday  \n",
       "2            2014             July       Wednesday  \n",
       "3            2015           August          Sunday  \n",
       "4            2017           August        Thursday  \n",
       "\n",
       "[5 rows x 80 columns]"
      ]
     },
     "execution_count": 119,
     "metadata": {},
     "output_type": "execute_result"
    }
   ],
   "source": [
    "df.head()"
   ]
  },
  {
   "cell_type": "code",
   "execution_count": 120,
   "id": "c4f2b038",
   "metadata": {},
   "outputs": [
    {
     "data": {
      "text/plain": [
       "Index(['ID', 'Name', 'LongName', 'photoUrl', 'playerUrl', 'Nationality', 'Age',\n",
       "       '↓OVA', 'POT', 'Club', 'Contract', 'Positions', 'Height', 'Weight',\n",
       "       'Preferred Foot', 'BOV', 'Best Position', 'Joined', 'Loan Date End',\n",
       "       'Value', 'Wage', 'Release Clause', 'Attacking', 'Crossing', 'Finishing',\n",
       "       'Heading Accuracy', 'Short Passing', 'Volleys', 'Skill', 'Dribbling',\n",
       "       'Curve', 'FK Accuracy', 'Long Passing', 'Ball Control', 'Movement',\n",
       "       'Acceleration', 'Sprint Speed', 'Agility', 'Reactions', 'Balance',\n",
       "       'Power', 'Shot Power', 'Jumping', 'Stamina', 'Strength', 'Long Shots',\n",
       "       'Mentality', 'Aggression', 'Interceptions', 'Positioning', 'Vision',\n",
       "       'Penalties', 'Composure', 'Defending', 'Marking', 'Standing Tackle',\n",
       "       'Sliding Tackle', 'Goalkeeping', 'GK Diving', 'GK Handling',\n",
       "       'GK Kicking', 'GK Positioning', 'GK Reflexes', 'Total Stats',\n",
       "       'Base Stats', 'W/F', 'SM', 'A/W', 'D/W', 'IR', 'PAC', 'SHO', 'PAS',\n",
       "       'DRI', 'DEF', 'PHY', 'Hits', 'Year of Joining', 'Month of Joining',\n",
       "       'Day of Joining'],\n",
       "      dtype='object')"
      ]
     },
     "execution_count": 120,
     "metadata": {},
     "output_type": "execute_result"
    }
   ],
   "source": [
    "df.columns"
   ]
  },
  {
   "cell_type": "code",
   "execution_count": 123,
   "id": "ab66748b",
   "metadata": {},
   "outputs": [
    {
     "ename": "KeyError",
     "evalue": "\"None of [Index(['Team'], dtype='object')] are in the [columns]\"",
     "output_type": "error",
     "traceback": [
      "\u001b[1;31m---------------------------------------------------------------------------\u001b[0m",
      "\u001b[1;31mKeyError\u001b[0m                                  Traceback (most recent call last)",
      "Cell \u001b[1;32mIn[123], line 1\u001b[0m\n\u001b[1;32m----> 1\u001b[0m df[[\u001b[38;5;124m'\u001b[39m\u001b[38;5;124mTeam\u001b[39m\u001b[38;5;124m'\u001b[39m]]\n",
      "File \u001b[1;32m~\\anaconda3\\Lib\\site-packages\\pandas\\core\\frame.py:3767\u001b[0m, in \u001b[0;36mDataFrame.__getitem__\u001b[1;34m(self, key)\u001b[0m\n\u001b[0;32m   3765\u001b[0m     \u001b[38;5;28;01mif\u001b[39;00m is_iterator(key):\n\u001b[0;32m   3766\u001b[0m         key \u001b[38;5;241m=\u001b[39m \u001b[38;5;28mlist\u001b[39m(key)\n\u001b[1;32m-> 3767\u001b[0m     indexer \u001b[38;5;241m=\u001b[39m \u001b[38;5;28mself\u001b[39m\u001b[38;5;241m.\u001b[39mcolumns\u001b[38;5;241m.\u001b[39m_get_indexer_strict(key, \u001b[38;5;124m\"\u001b[39m\u001b[38;5;124mcolumns\u001b[39m\u001b[38;5;124m\"\u001b[39m)[\u001b[38;5;241m1\u001b[39m]\n\u001b[0;32m   3769\u001b[0m \u001b[38;5;66;03m# take() does not accept boolean indexers\u001b[39;00m\n\u001b[0;32m   3770\u001b[0m \u001b[38;5;28;01mif\u001b[39;00m \u001b[38;5;28mgetattr\u001b[39m(indexer, \u001b[38;5;124m\"\u001b[39m\u001b[38;5;124mdtype\u001b[39m\u001b[38;5;124m\"\u001b[39m, \u001b[38;5;28;01mNone\u001b[39;00m) \u001b[38;5;241m==\u001b[39m \u001b[38;5;28mbool\u001b[39m:\n",
      "File \u001b[1;32m~\\anaconda3\\Lib\\site-packages\\pandas\\core\\indexes\\base.py:5877\u001b[0m, in \u001b[0;36mIndex._get_indexer_strict\u001b[1;34m(self, key, axis_name)\u001b[0m\n\u001b[0;32m   5874\u001b[0m \u001b[38;5;28;01melse\u001b[39;00m:\n\u001b[0;32m   5875\u001b[0m     keyarr, indexer, new_indexer \u001b[38;5;241m=\u001b[39m \u001b[38;5;28mself\u001b[39m\u001b[38;5;241m.\u001b[39m_reindex_non_unique(keyarr)\n\u001b[1;32m-> 5877\u001b[0m \u001b[38;5;28mself\u001b[39m\u001b[38;5;241m.\u001b[39m_raise_if_missing(keyarr, indexer, axis_name)\n\u001b[0;32m   5879\u001b[0m keyarr \u001b[38;5;241m=\u001b[39m \u001b[38;5;28mself\u001b[39m\u001b[38;5;241m.\u001b[39mtake(indexer)\n\u001b[0;32m   5880\u001b[0m \u001b[38;5;28;01mif\u001b[39;00m \u001b[38;5;28misinstance\u001b[39m(key, Index):\n\u001b[0;32m   5881\u001b[0m     \u001b[38;5;66;03m# GH 42790 - Preserve name from an Index\u001b[39;00m\n",
      "File \u001b[1;32m~\\anaconda3\\Lib\\site-packages\\pandas\\core\\indexes\\base.py:5938\u001b[0m, in \u001b[0;36mIndex._raise_if_missing\u001b[1;34m(self, key, indexer, axis_name)\u001b[0m\n\u001b[0;32m   5936\u001b[0m     \u001b[38;5;28;01mif\u001b[39;00m use_interval_msg:\n\u001b[0;32m   5937\u001b[0m         key \u001b[38;5;241m=\u001b[39m \u001b[38;5;28mlist\u001b[39m(key)\n\u001b[1;32m-> 5938\u001b[0m     \u001b[38;5;28;01mraise\u001b[39;00m \u001b[38;5;167;01mKeyError\u001b[39;00m(\u001b[38;5;124mf\u001b[39m\u001b[38;5;124m\"\u001b[39m\u001b[38;5;124mNone of [\u001b[39m\u001b[38;5;132;01m{\u001b[39;00mkey\u001b[38;5;132;01m}\u001b[39;00m\u001b[38;5;124m] are in the [\u001b[39m\u001b[38;5;132;01m{\u001b[39;00maxis_name\u001b[38;5;132;01m}\u001b[39;00m\u001b[38;5;124m]\u001b[39m\u001b[38;5;124m\"\u001b[39m)\n\u001b[0;32m   5940\u001b[0m not_found \u001b[38;5;241m=\u001b[39m \u001b[38;5;28mlist\u001b[39m(ensure_index(key)[missing_mask\u001b[38;5;241m.\u001b[39mnonzero()[\u001b[38;5;241m0\u001b[39m]]\u001b[38;5;241m.\u001b[39munique())\n\u001b[0;32m   5941\u001b[0m \u001b[38;5;28;01mraise\u001b[39;00m \u001b[38;5;167;01mKeyError\u001b[39;00m(\u001b[38;5;124mf\u001b[39m\u001b[38;5;124m\"\u001b[39m\u001b[38;5;132;01m{\u001b[39;00mnot_found\u001b[38;5;132;01m}\u001b[39;00m\u001b[38;5;124m not in index\u001b[39m\u001b[38;5;124m\"\u001b[39m)\n",
      "\u001b[1;31mKeyError\u001b[0m: \"None of [Index(['Team'], dtype='object')] are in the [columns]\""
     ]
    }
   ],
   "source": [
    "df[['Team']]"
   ]
  },
  {
   "cell_type": "code",
   "execution_count": 124,
   "id": "999b99f0",
   "metadata": {},
   "outputs": [
    {
     "data": {
      "text/plain": [
       "dtype('O')"
      ]
     },
     "execution_count": 124,
     "metadata": {},
     "output_type": "execute_result"
    }
   ],
   "source": [
    "df.Hits.dtypes"
   ]
  },
  {
   "cell_type": "code",
   "execution_count": 127,
   "id": "abd8047d",
   "metadata": {},
   "outputs": [
    {
     "data": {
      "text/plain": [
       "2622"
      ]
     },
     "execution_count": 127,
     "metadata": {},
     "output_type": "execute_result"
    }
   ],
   "source": [
    "df.Hits.isnull().sum()"
   ]
  },
  {
   "cell_type": "code",
   "execution_count": 128,
   "id": "4b526ad9",
   "metadata": {},
   "outputs": [],
   "source": [
    "df.Hits.dropna(inplace=True)"
   ]
  },
  {
   "cell_type": "code",
   "execution_count": 132,
   "id": "c17b8f12",
   "metadata": {},
   "outputs": [],
   "source": [
    "df.Hits=df.Hits.astype('str')"
   ]
  },
  {
   "cell_type": "code",
   "execution_count": 134,
   "id": "733b1fae",
   "metadata": {},
   "outputs": [
    {
     "data": {
      "text/plain": [
       "0"
      ]
     },
     "execution_count": 134,
     "metadata": {},
     "output_type": "execute_result"
    }
   ],
   "source": [
    "df.Hits.isnull().sum()"
   ]
  },
  {
   "cell_type": "code",
   "execution_count": 136,
   "id": "5de008eb",
   "metadata": {},
   "outputs": [
    {
     "data": {
      "text/plain": [
       "array(['771', '562', '150', '207', '595', '248', '246', '120', '1.6K',\n",
       "       '130', '321', '189', '175', '96', '118', '216', '212', '154',\n",
       "       '205', '202', '339', '408', '103', '332', '86', '173', '161',\n",
       "       '396', '1.1K', '433', '242', '206', '177', '1.5K', '198', '459',\n",
       "       '117', '119', '209', '84', '187', '165', '203', '65', '336', '126',\n",
       "       '313', '124', '145', '538', '182', '101', '45', '377', '99', '194',\n",
       "       '403', '414', '593', '374', '245', '3.2K', '266', '299', '309',\n",
       "       '215', '265', '211', '112', '337', '70', '159', '688', '116', '63',\n",
       "       '144', '123', '71', '224', '113', '168', '61', '89', '137', '278',\n",
       "       '75', '148', '176', '197', '264', '214', '247', '402', '440',\n",
       "       '1.7K', '2.3K', '171', '320', '657', '87', '259', '200', '255',\n",
       "       '253', '196', '60', '97', '85', '169', '256', '132', '239', '166',\n",
       "       '121', '109', '32', '46', '122', '48', '527', '199', '282', '51',\n",
       "       '1.9K', '642', '155', '323', '288', '497', '509', '79', '49',\n",
       "       '270', '511', '80', '128', '115', '156', '204', '143', '140',\n",
       "       '152', '220', '134', '225', '94', '74', '135', '142', '50', '77',\n",
       "       '40', '107', '193', '179', '34', '64', '453', '57', '81', '28',\n",
       "       '78', '133', '43', '425', '88', '42', '36', '233', '376', '210',\n",
       "       '444', '100', '263', '98', '29', '160', '39', '257', '6', '310',\n",
       "       '138', '62', '293', '285', '362', '66', '69', '58', '21', '20',\n",
       "       '131', '38', '406', '68', '108', '110', '93', '512', '443', '306',\n",
       "       '352', '422', '585', '346', '178', '841', '76', '394', '72', '172',\n",
       "       '44', '407', '230', '367', '295', '157', '243', '56', '111', '326',\n",
       "       '679', '18', '92', '59', '25', '184', '53', '12', '90', '55', '73',\n",
       "       '11', '566', '180', '83', '262', '17', '26', '31', '280', '359',\n",
       "       '213', '297', '387', '480', '381', '677', '486', '8', '244', '129',\n",
       "       '388', '275', '319', '2K', '52', '91', '421', '153', '27', '41',\n",
       "       '222', '35', '102', '23', '30', '33', '146', '13', '19', '14',\n",
       "       '106', '276', '568', '353', '47', '478', '249', '254', '369',\n",
       "       '219', '565', '237', '227', '434', '375', '162', '605', '654', '3',\n",
       "       '7', '9', '104', '114', '186', '446', '756', '22', '139', '500',\n",
       "       '67', '147', '149', '16', '82', '54', '37', '15', '1.3K', '3K',\n",
       "       '952', '5', '749', '541', '330', '393', '517', '770', '409', '170',\n",
       "       '125', '283', '342', '363', '580', '105', '217', '24', '141', '10',\n",
       "       '427', '158', '426', '4', '666', '181', '324', '979', '1.4K',\n",
       "       '302', '751', '298', '411', '944', '2', '947', '292', '349', '621',\n",
       "       '1', '2.8K', '338', '287', '261', '218', '1.8K', '240', '279',\n",
       "       '229', '188', '315', '664', '613', '190', '706', '127', '462',\n",
       "       '386', '695', '491', '167', '281', '250', '307', '95', '231',\n",
       "       '174', '680', '633', '221', '348', '602', '183', '653', '195',\n",
       "       '164', '151', '258', '8.4K', '343', '419', '655', '136', '399',\n",
       "       '531', '357', '228', '385', '312', '340', '238', '487', '355',\n",
       "       '499', '4.3K', '296', '515', '943', '1.2K', '903', '335', '191',\n",
       "       '594', '267', '617', '516', '504', '331', '652', '410', '550',\n",
       "       '473', '442', '344', '208', '1K', '2.5K', '273', '485', '826',\n",
       "       '192', '405', '941', '477', '644', '303', '417', '6K', 'nan'],\n",
       "      dtype=object)"
      ]
     },
     "execution_count": 136,
     "metadata": {},
     "output_type": "execute_result"
    }
   ],
   "source": [
    "df.Hits.unique()"
   ]
  },
  {
   "cell_type": "code",
   "execution_count": 140,
   "id": "4bc19a33",
   "metadata": {},
   "outputs": [],
   "source": [
    "df=df[df.Hits!='nan']"
   ]
  },
  {
   "cell_type": "code",
   "execution_count": 141,
   "id": "0b4cc0d6",
   "metadata": {},
   "outputs": [
    {
     "data": {
      "text/plain": [
       "array(['771', '562', '150', '207', '595', '248', '246', '120', '1.6K',\n",
       "       '130', '321', '189', '175', '96', '118', '216', '212', '154',\n",
       "       '205', '202', '339', '408', '103', '332', '86', '173', '161',\n",
       "       '396', '1.1K', '433', '242', '206', '177', '1.5K', '198', '459',\n",
       "       '117', '119', '209', '84', '187', '165', '203', '65', '336', '126',\n",
       "       '313', '124', '145', '538', '182', '101', '45', '377', '99', '194',\n",
       "       '403', '414', '593', '374', '245', '3.2K', '266', '299', '309',\n",
       "       '215', '265', '211', '112', '337', '70', '159', '688', '116', '63',\n",
       "       '144', '123', '71', '224', '113', '168', '61', '89', '137', '278',\n",
       "       '75', '148', '176', '197', '264', '214', '247', '402', '440',\n",
       "       '1.7K', '2.3K', '171', '320', '657', '87', '259', '200', '255',\n",
       "       '253', '196', '60', '97', '85', '169', '256', '132', '239', '166',\n",
       "       '121', '109', '32', '46', '122', '48', '527', '199', '282', '51',\n",
       "       '1.9K', '642', '155', '323', '288', '497', '509', '79', '49',\n",
       "       '270', '511', '80', '128', '115', '156', '204', '143', '140',\n",
       "       '152', '220', '134', '225', '94', '74', '135', '142', '50', '77',\n",
       "       '40', '107', '193', '179', '34', '64', '453', '57', '81', '28',\n",
       "       '78', '133', '43', '425', '88', '42', '36', '233', '376', '210',\n",
       "       '444', '100', '263', '98', '29', '160', '39', '257', '6', '310',\n",
       "       '138', '62', '293', '285', '362', '66', '69', '58', '21', '20',\n",
       "       '131', '38', '406', '68', '108', '110', '93', '512', '443', '306',\n",
       "       '352', '422', '585', '346', '178', '841', '76', '394', '72', '172',\n",
       "       '44', '407', '230', '367', '295', '157', '243', '56', '111', '326',\n",
       "       '679', '18', '92', '59', '25', '184', '53', '12', '90', '55', '73',\n",
       "       '11', '566', '180', '83', '262', '17', '26', '31', '280', '359',\n",
       "       '213', '297', '387', '480', '381', '677', '486', '8', '244', '129',\n",
       "       '388', '275', '319', '2K', '52', '91', '421', '153', '27', '41',\n",
       "       '222', '35', '102', '23', '30', '33', '146', '13', '19', '14',\n",
       "       '106', '276', '568', '353', '47', '478', '249', '254', '369',\n",
       "       '219', '565', '237', '227', '434', '375', '162', '605', '654', '3',\n",
       "       '7', '9', '104', '114', '186', '446', '756', '22', '139', '500',\n",
       "       '67', '147', '149', '16', '82', '54', '37', '15', '1.3K', '3K',\n",
       "       '952', '5', '749', '541', '330', '393', '517', '770', '409', '170',\n",
       "       '125', '283', '342', '363', '580', '105', '217', '24', '141', '10',\n",
       "       '427', '158', '426', '4', '666', '181', '324', '979', '1.4K',\n",
       "       '302', '751', '298', '411', '944', '2', '947', '292', '349', '621',\n",
       "       '1', '2.8K', '338', '287', '261', '218', '1.8K', '240', '279',\n",
       "       '229', '188', '315', '664', '613', '190', '706', '127', '462',\n",
       "       '386', '695', '491', '167', '281', '250', '307', '95', '231',\n",
       "       '174', '680', '633', '221', '348', '602', '183', '653', '195',\n",
       "       '164', '151', '258', '8.4K', '343', '419', '655', '136', '399',\n",
       "       '531', '357', '228', '385', '312', '340', '238', '487', '355',\n",
       "       '499', '4.3K', '296', '515', '943', '1.2K', '903', '335', '191',\n",
       "       '594', '267', '617', '516', '504', '331', '652', '410', '550',\n",
       "       '473', '442', '344', '208', '1K', '2.5K', '273', '485', '826',\n",
       "       '192', '405', '941', '477', '644', '303', '417', '6K'],\n",
       "      dtype=object)"
      ]
     },
     "execution_count": 141,
     "metadata": {},
     "output_type": "execute_result"
    }
   ],
   "source": [
    "df.Hits.unique()"
   ]
  },
  {
   "cell_type": "code",
   "execution_count": 142,
   "id": "1424ad9a",
   "metadata": {},
   "outputs": [
    {
     "name": "stderr",
     "output_type": "stream",
     "text": [
      "C:\\Users\\ansh\\AppData\\Local\\Temp\\ipykernel_1584\\2491521307.py:1: SettingWithCopyWarning: \n",
      "A value is trying to be set on a copy of a slice from a DataFrame.\n",
      "Try using .loc[row_indexer,col_indexer] = value instead\n",
      "\n",
      "See the caveats in the documentation: https://pandas.pydata.org/pandas-docs/stable/user_guide/indexing.html#returning-a-view-versus-a-copy\n",
      "  df.Hits=df.Hits.apply(convert_to_int)\n"
     ]
    }
   ],
   "source": [
    "df.Hits=df.Hits.apply(convert_to_int)"
   ]
  },
  {
   "cell_type": "code",
   "execution_count": 143,
   "id": "74b26309",
   "metadata": {},
   "outputs": [
    {
     "data": {
      "text/plain": [
       "dtype('int64')"
      ]
     },
     "execution_count": 143,
     "metadata": {},
     "output_type": "execute_result"
    }
   ],
   "source": [
    "df.Hits.dtypes"
   ]
  },
  {
   "cell_type": "code",
   "execution_count": null,
   "id": "45649e2d",
   "metadata": {},
   "outputs": [],
   "source": []
  }
 ],
 "metadata": {
  "kernelspec": {
   "display_name": "Python 3 (ipykernel)",
   "language": "python",
   "name": "python3"
  },
  "language_info": {
   "codemirror_mode": {
    "name": "ipython",
    "version": 3
   },
   "file_extension": ".py",
   "mimetype": "text/x-python",
   "name": "python",
   "nbconvert_exporter": "python",
   "pygments_lexer": "ipython3",
   "version": "3.11.5"
  }
 },
 "nbformat": 4,
 "nbformat_minor": 5
}
